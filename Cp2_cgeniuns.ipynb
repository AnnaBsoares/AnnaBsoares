{
  "nbformat": 4,
  "nbformat_minor": 0,
  "metadata": {
    "colab": {
      "provenance": [],
      "toc_visible": true,
      "authorship_tag": "ABX9TyN3eo2be54tIEnNeCxeMm6c",
      "include_colab_link": true
    },
    "kernelspec": {
      "name": "python3",
      "display_name": "Python 3"
    },
    "language_info": {
      "name": "python"
    }
  },
  "cells": [
    {
      "cell_type": "markdown",
      "metadata": {
        "id": "view-in-github",
        "colab_type": "text"
      },
      "source": [
        "<a href=\"https://colab.research.google.com/github/AnnaBsoares/AnnaBsoares/blob/main/Cp2_cgeniuns.ipynb\" target=\"_parent\"><img src=\"https://colab.research.google.com/assets/colab-badge.svg\" alt=\"Open In Colab\"/></a>"
      ]
    },
    {
      "cell_type": "code",
      "source": [
        "import pandas as pd\n",
        "from sklearn.impute import SimpleImputer\n",
        "from sklearn.preprocessing import StandardScaler\n",
        "from sklearn.cluster import KMeans\n",
        "from sklearn.ensemble import RandomForestRegressor\n",
        "from sklearn.model_selection import train_test_split\n",
        "from sklearn.metrics import mean_squared_error\n",
        "import numpy as np\n"
      ],
      "metadata": {
        "id": "1RY8Jz1JpeIc"
      },
      "execution_count": 45,
      "outputs": []
    },
    {
      "cell_type": "markdown",
      "source": [
        "# Pré-processamento dos dados"
      ],
      "metadata": {
        "id": "hyR3mwhS0_Hw"
      }
    },
    {
      "cell_type": "code",
      "source": [
        "\n",
        "# Função para tratar dados\n",
        "def trata_dados(dados):\n",
        "    imputer = SimpleImputer(strategy='mean')\n",
        "    dados_imputados = imputer.fit_transform(dados)\n",
        "    return pd.DataFrame(dados_imputados, columns=dados.columns), imputer"
      ],
      "metadata": {
        "id": "cTvsD0jgqP5z"
      },
      "execution_count": 13,
      "outputs": []
    },
    {
      "cell_type": "code",
      "source": [
        "# Carregar e preparar dados\n",
        "dados = pd.read_csv('/content/solicitacoescredito.csv')\n",
        "dados_sem_nan = dados.dropna(subset=['limiteEmpresaAnaliseCredito'])"
      ],
      "metadata": {
        "id": "ihxAbOVPqQ4k"
      },
      "execution_count": 21,
      "outputs": []
    },
    {
      "cell_type": "markdown",
      "source": [
        "# Seleção e engenharia de características"
      ],
      "metadata": {
        "id": "Jfnd-5OT1FLc"
      }
    },
    {
      "cell_type": "code",
      "source": [
        "# Selecionar características e alvo\n",
        "caracteristicas = dados_sem_nan[['maiorAtraso', 'margemBrutaAcumulada', 'percentualProtestos', 'faturamentoBruto']]\n",
        "alvo = dados_sem_nan['limiteEmpresaAnaliseCredito']"
      ],
      "metadata": {
        "id": "o5ZR5BpDG05f"
      },
      "execution_count": 22,
      "outputs": []
    },
    {
      "cell_type": "code",
      "source": [
        "# Imputar valores ausentes e padronizar dados\n",
        "caracteristicas, imputer = trata_dados(caracteristicas)\n",
        "scaler = StandardScaler()\n",
        "caracteristicas_padronizadas = scaler.fit_transform(caracteristicas)"
      ],
      "metadata": {
        "id": "HY5wINPPHN9z"
      },
      "execution_count": 23,
      "outputs": []
    },
    {
      "cell_type": "code",
      "source": [
        "\n",
        "# Segmentação dos clientes usando KMeans\n",
        "n_clusters = 3  # Defina o número de clusters conforme necessário\n",
        "kmeans = KMeans(n_clusters=n_clusters, random_state=42)\n",
        "rotulos_clusters = kmeans.fit_predict(caracteristicas_padronizadas)\n",
        "# Adicionar os rótulos dos clusters ao DataFrame usando .copy()\n",
        "dados_sem_nan = dados_sem_nan.copy()\n",
        "dados_sem_nan['grupo_cliente'] = rotulos_clusters\n"
      ],
      "metadata": {
        "id": "to6FUvDLqYfG"
      },
      "execution_count": 29,
      "outputs": []
    },
    {
      "cell_type": "code",
      "source": [
        " #Função para calcular a raiz do erro quadrático médio (RMSE)\n",
        "def root_mean_squared_error(y_true, y_pred):\n",
        "    return np.sqrt(mean_squared_error(y_true, y_pred))"
      ],
      "metadata": {
        "id": "uomO8dkVNO3i"
      },
      "execution_count": 30,
      "outputs": []
    },
    {
      "cell_type": "markdown",
      "source": [
        "# Treinamento de modelos"
      ],
      "metadata": {
        "id": "LJsqhRpG1NMA"
      }
    },
    {
      "cell_type": "code",
      "source": [
        "# Treinar um modelo para cada grupo\n",
        "modelos_por_grupo = {}\n",
        "limites_recomendados_por_grupo = {}\n",
        "\n",
        "for grupo in range(n_clusters):\n",
        "    dados_grupo = dados_sem_nan[dados_sem_nan['grupo_cliente'] == grupo]\n",
        "    X_grupo = dados_grupo[['maiorAtraso', 'margemBrutaAcumulada', 'percentualProtestos', 'faturamentoBruto']]\n",
        "    y_grupo = dados_grupo['limiteEmpresaAnaliseCredito']\n",
        "\n",
        "    X_grupo_imputado, _ = trata_dados(X_grupo)\n",
        "    X_grupo_padronizado = scaler.transform(X_grupo_imputado)\n",
        "\n",
        "    X_treino, X_val, y_treino, y_val = train_test_split(X_grupo_padronizado, y_grupo, test_size=0.2, random_state=42)\n",
        "\n",
        "    modelo_grupo = RandomForestRegressor(random_state=42)\n",
        "    modelo_grupo.fit(X_treino, y_treino)\n",
        "\n",
        "    previsoes = modelo_grupo.predict(X_val)\n",
        "    rmse = root_mean_squared_error(y_val, previsoes)\n",
        "    print(f'RMSE para o Grupo {grupo}: {rmse}')\n",
        "\n",
        "    modelos_por_grupo[grupo] = modelo_grupo\n",
        "\n",
        "    # Recomendar limite de crédito para cada cliente do grupo\n",
        "    limites_recomendados = []\n",
        "    for indice, cliente in dados_grupo.iterrows():\n",
        "        limite_recomendado = recomendar_limite_credito(cliente)\n",
        "        limites_recomendados.append(limite_recomendado)\n",
        "\n",
        "    # Armazenar os limites recomendados para o grupo\n",
        "    limites_recomendados_por_grupo[grupo] = limites_recomendados\n"
      ],
      "metadata": {
        "colab": {
          "base_uri": "https://localhost:8080/"
        },
        "id": "QaSUzRPAvzbT",
        "outputId": "d7367955-2f28-420a-b7f6-89dd27e9b458"
      },
      "execution_count": 31,
      "outputs": [
        {
          "output_type": "stream",
          "name": "stdout",
          "text": [
            "RMSE para o Grupo 0: 57410192.28776583\n",
            "RMSE para o Grupo 1: 6069597.293670635\n",
            "RMSE para o Grupo 2: 18087459.839948464\n"
          ]
        }
      ]
    },
    {
      "cell_type": "code",
      "source": [
        "\n",
        "# Função para recomendar limite de crédito para um novo cliente\n",
        "def recomendar_limite_credito(novo_cliente):\n",
        "    novo_cliente_df = pd.DataFrame([novo_cliente])\n",
        "    novo_cliente_imputado = imputer.transform(novo_cliente_df)\n",
        "    novo_cliente_padronizado = scaler.transform(novo_cliente_imputado)\n",
        "\n",
        "    novo_cliente_grupo = kmeans.predict(novo_cliente_padronizado)[0]\n",
        "    limite_credito = modelos_por_grupo[novo_cliente_grupo].predict(novo_cliente_padronizado)\n",
        "    return limite_credito[0]"
      ],
      "metadata": {
        "id": "wzP3PI7SqfFR"
      },
      "execution_count": 32,
      "outputs": []
    },
    {
      "cell_type": "markdown",
      "source": [
        "\n",
        "Grupo 0: O RMSE é bastante alto, indicando que o modelo pode não estar se ajustando bem aos dados deste grupo. Isso pode ser devido a vários fatores, como falta de representatividade dos dados de treinamento ou a complexidade do relacionamento entre as características e o alvo para este grupo.\n",
        "\n",
        "Grupo 1: O RMSE é relativamente baixo em comparação com o Grupo 0, o que sugere que o modelo está se ajustando melhor aos dados deste grupo. Isso pode indicar que as características selecionadas têm uma relação mais direta com o alvo para os clientes deste grupo.\n",
        "\n",
        "Grupo 2: O RMSE está entre os valores dos Grupos 0 e 1. Isso sugere que o modelo está se ajustando razoavelmente bem aos dados deste grupo, mas pode haver margem para melhorias no ajuste do modelo ou na seleção de características.\n",
        "\n"
      ],
      "metadata": {
        "id": "dfkCrkjswW_3"
      }
    },
    {
      "cell_type": "code",
      "source": [
        "# Exemplo de uso para um novo cliente\n",
        "novo_cliente = {'maiorAtraso': 0, 'margemBrutaAcumulada': 0.25, 'percentualProtestos': 0.0, 'faturamentoBruto': 50000}\n",
        "limite_credito_recomendado = recomendar_limite_credito(novo_cliente)\n",
        "print(f'Limite de Crédito Recomendado: {limite_credito_recomendado}')\n"
      ],
      "metadata": {
        "colab": {
          "base_uri": "https://localhost:8080/"
        },
        "id": "sa_O6A4ZqF_4",
        "outputId": "e861457b-0047-42e9-dad0-90b4885c4ab5"
      },
      "execution_count": 33,
      "outputs": [
        {
          "output_type": "stream",
          "name": "stdout",
          "text": [
            "Limite de Crédito Recomendado: 3487.933333333333\n"
          ]
        },
        {
          "output_type": "stream",
          "name": "stderr",
          "text": [
            "/usr/local/lib/python3.10/dist-packages/sklearn/base.py:493: UserWarning: X does not have valid feature names, but StandardScaler was fitted with feature names\n",
            "  warnings.warn(\n"
          ]
        }
      ]
    },
    {
      "cell_type": "markdown",
      "source": [
        "# Modelo de Regressão"
      ],
      "metadata": {
        "id": "7fBpqfv19FKr"
      }
    },
    {
      "cell_type": "code",
      "source": [
        "# from sklearn.linear_model import LinearRegression\n",
        "\n",
        "# # Treinar um modelo de regressão linear para cada grupo\n",
        "# modelos_por_grupo = {}\n",
        "# limites_recomendados_por_grupo = {}\n",
        "\n",
        "# for grupo in range(n_clusters):\n",
        "#     dados_grupo = dados_sem_nan[dados_sem_nan['grupo_cliente'] == grupo]\n",
        "#     X_grupo = dados_grupo[['maiorAtraso', 'margemBrutaAcumulada', 'percentualProtestos', 'faturamentoBruto']]\n",
        "#     y_grupo = dados_grupo['limiteEmpresaAnaliseCredito']\n",
        "\n",
        "#     X_grupo_imputado = trata_dados(X_grupo)\n",
        "#     X_grupo_padronizado = scaler.transform(X_grupo_imputado)\n",
        "\n",
        "#     X_treino, X_val, y_treino, y_val = train_test_split(X_grupo_padronizado, y_grupo, test_size=0.2, random_state=42)\n",
        "\n",
        "#     # Inicializar e treinar um modelo de regressão linear\n",
        "#     modelo_grupo = LinearRegression()\n",
        "#     modelo_grupo.fit(X_treino, y_treino)\n",
        "\n",
        "#     # Fazer previsões no conjunto de validação\n",
        "#     previsoes = modelo_grupo.predict(X_val)\n",
        "\n",
        "#     # Calcular o RMSE para avaliar o modelo\n",
        "#     rmse = root_mean_squared_error(y_val, previsoes)\n",
        "#     print(f'RMSE para o Grupo {grupo}: {rmse}')\n",
        "\n",
        "#     # Armazenar o modelo treinado para o grupo\n",
        "#     modelos_por_grupo[grupo] = modelo_grupo\n",
        "\n",
        "#     # Recomendar limite de crédito para cada cliente do grupo\n",
        "#     limites_recomendados = []\n",
        "#     for indice, cliente in dados_grupo.iterrows():\n",
        "#         # Preparar os dados do cliente e fazer uma previsão usando o modelo do grupo\n",
        "#         cliente_df = pd.DataFrame([cliente])\n",
        "#         cliente_imputado = trata_dados_string(cliente_df)\n",
        "#         cliente_padronizado = scaler.transform(cliente_imputado)\n",
        "#         limite_recomendado = modelo_grupo.predict(cliente_padronizado)\n",
        "#         limites_recomendados.append(limite_recomendado[0])\n",
        "\n",
        "#     # Armazenar os limites recomendados para o grupo\n",
        "#     limites_recomendados_por_grupo[grupo] = limites_recomendados\n"
      ],
      "metadata": {
        "colab": {
          "base_uri": "https://localhost:8080/",
          "height": 455
        },
        "id": "gNZ905Td9I7H",
        "outputId": "a174b13d-02a7-43c8-b23c-f313e6bcd760"
      },
      "execution_count": 15,
      "outputs": [
        {
          "output_type": "stream",
          "name": "stderr",
          "text": [
            "/usr/local/lib/python3.10/dist-packages/sklearn/base.py:493: UserWarning: X does not have valid feature names, but StandardScaler was fitted with feature names\n",
            "  warnings.warn(\n"
          ]
        },
        {
          "output_type": "error",
          "ename": "ValueError",
          "evalue": "setting an array element with a sequence. The requested array has an inhomogeneous shape after 1 dimensions. The detected shape was (2,) + inhomogeneous part.",
          "traceback": [
            "\u001b[0;31m---------------------------------------------------------------------------\u001b[0m",
            "\u001b[0;31mValueError\u001b[0m                                Traceback (most recent call last)",
            "\u001b[0;32m<ipython-input-15-e3cc77cf6aa8>\u001b[0m in \u001b[0;36m<cell line: 7>\u001b[0;34m()\u001b[0m\n\u001b[1;32m     11\u001b[0m \u001b[0;34m\u001b[0m\u001b[0m\n\u001b[1;32m     12\u001b[0m     \u001b[0mX_grupo_imputado\u001b[0m \u001b[0;34m=\u001b[0m \u001b[0mtrata_dados\u001b[0m\u001b[0;34m(\u001b[0m\u001b[0mX_grupo\u001b[0m\u001b[0;34m)\u001b[0m\u001b[0;34m\u001b[0m\u001b[0;34m\u001b[0m\u001b[0m\n\u001b[0;32m---> 13\u001b[0;31m     \u001b[0mX_grupo_padronizado\u001b[0m \u001b[0;34m=\u001b[0m \u001b[0mscaler\u001b[0m\u001b[0;34m.\u001b[0m\u001b[0mtransform\u001b[0m\u001b[0;34m(\u001b[0m\u001b[0mX_grupo_imputado\u001b[0m\u001b[0;34m)\u001b[0m\u001b[0;34m\u001b[0m\u001b[0;34m\u001b[0m\u001b[0m\n\u001b[0m\u001b[1;32m     14\u001b[0m \u001b[0;34m\u001b[0m\u001b[0m\n\u001b[1;32m     15\u001b[0m     \u001b[0mX_treino\u001b[0m\u001b[0;34m,\u001b[0m \u001b[0mX_val\u001b[0m\u001b[0;34m,\u001b[0m \u001b[0my_treino\u001b[0m\u001b[0;34m,\u001b[0m \u001b[0my_val\u001b[0m \u001b[0;34m=\u001b[0m \u001b[0mtrain_test_split\u001b[0m\u001b[0;34m(\u001b[0m\u001b[0mX_grupo_padronizado\u001b[0m\u001b[0;34m,\u001b[0m \u001b[0my_grupo\u001b[0m\u001b[0;34m,\u001b[0m \u001b[0mtest_size\u001b[0m\u001b[0;34m=\u001b[0m\u001b[0;36m0.2\u001b[0m\u001b[0;34m,\u001b[0m \u001b[0mrandom_state\u001b[0m\u001b[0;34m=\u001b[0m\u001b[0;36m42\u001b[0m\u001b[0;34m)\u001b[0m\u001b[0;34m\u001b[0m\u001b[0;34m\u001b[0m\u001b[0m\n",
            "\u001b[0;32m/usr/local/lib/python3.10/dist-packages/sklearn/utils/_set_output.py\u001b[0m in \u001b[0;36mwrapped\u001b[0;34m(self, X, *args, **kwargs)\u001b[0m\n\u001b[1;32m    311\u001b[0m     \u001b[0;34m@\u001b[0m\u001b[0mwraps\u001b[0m\u001b[0;34m(\u001b[0m\u001b[0mf\u001b[0m\u001b[0;34m)\u001b[0m\u001b[0;34m\u001b[0m\u001b[0;34m\u001b[0m\u001b[0m\n\u001b[1;32m    312\u001b[0m     \u001b[0;32mdef\u001b[0m \u001b[0mwrapped\u001b[0m\u001b[0;34m(\u001b[0m\u001b[0mself\u001b[0m\u001b[0;34m,\u001b[0m \u001b[0mX\u001b[0m\u001b[0;34m,\u001b[0m \u001b[0;34m*\u001b[0m\u001b[0margs\u001b[0m\u001b[0;34m,\u001b[0m \u001b[0;34m**\u001b[0m\u001b[0mkwargs\u001b[0m\u001b[0;34m)\u001b[0m\u001b[0;34m:\u001b[0m\u001b[0;34m\u001b[0m\u001b[0;34m\u001b[0m\u001b[0m\n\u001b[0;32m--> 313\u001b[0;31m         \u001b[0mdata_to_wrap\u001b[0m \u001b[0;34m=\u001b[0m \u001b[0mf\u001b[0m\u001b[0;34m(\u001b[0m\u001b[0mself\u001b[0m\u001b[0;34m,\u001b[0m \u001b[0mX\u001b[0m\u001b[0;34m,\u001b[0m \u001b[0;34m*\u001b[0m\u001b[0margs\u001b[0m\u001b[0;34m,\u001b[0m \u001b[0;34m**\u001b[0m\u001b[0mkwargs\u001b[0m\u001b[0;34m)\u001b[0m\u001b[0;34m\u001b[0m\u001b[0;34m\u001b[0m\u001b[0m\n\u001b[0m\u001b[1;32m    314\u001b[0m         \u001b[0;32mif\u001b[0m \u001b[0misinstance\u001b[0m\u001b[0;34m(\u001b[0m\u001b[0mdata_to_wrap\u001b[0m\u001b[0;34m,\u001b[0m \u001b[0mtuple\u001b[0m\u001b[0;34m)\u001b[0m\u001b[0;34m:\u001b[0m\u001b[0;34m\u001b[0m\u001b[0;34m\u001b[0m\u001b[0m\n\u001b[1;32m    315\u001b[0m             \u001b[0;31m# only wrap the first output for cross decomposition\u001b[0m\u001b[0;34m\u001b[0m\u001b[0;34m\u001b[0m\u001b[0m\n",
            "\u001b[0;32m/usr/local/lib/python3.10/dist-packages/sklearn/preprocessing/_data.py\u001b[0m in \u001b[0;36mtransform\u001b[0;34m(self, X, copy)\u001b[0m\n\u001b[1;32m   1041\u001b[0m \u001b[0;34m\u001b[0m\u001b[0m\n\u001b[1;32m   1042\u001b[0m         \u001b[0mcopy\u001b[0m \u001b[0;34m=\u001b[0m \u001b[0mcopy\u001b[0m \u001b[0;32mif\u001b[0m \u001b[0mcopy\u001b[0m \u001b[0;32mis\u001b[0m \u001b[0;32mnot\u001b[0m \u001b[0;32mNone\u001b[0m \u001b[0;32melse\u001b[0m \u001b[0mself\u001b[0m\u001b[0;34m.\u001b[0m\u001b[0mcopy\u001b[0m\u001b[0;34m\u001b[0m\u001b[0;34m\u001b[0m\u001b[0m\n\u001b[0;32m-> 1043\u001b[0;31m         X = self._validate_data(\n\u001b[0m\u001b[1;32m   1044\u001b[0m             \u001b[0mX\u001b[0m\u001b[0;34m,\u001b[0m\u001b[0;34m\u001b[0m\u001b[0;34m\u001b[0m\u001b[0m\n\u001b[1;32m   1045\u001b[0m             \u001b[0mreset\u001b[0m\u001b[0;34m=\u001b[0m\u001b[0;32mFalse\u001b[0m\u001b[0;34m,\u001b[0m\u001b[0;34m\u001b[0m\u001b[0;34m\u001b[0m\u001b[0m\n",
            "\u001b[0;32m/usr/local/lib/python3.10/dist-packages/sklearn/base.py\u001b[0m in \u001b[0;36m_validate_data\u001b[0;34m(self, X, y, reset, validate_separately, cast_to_ndarray, **check_params)\u001b[0m\n\u001b[1;32m    631\u001b[0m                 \u001b[0mout\u001b[0m \u001b[0;34m=\u001b[0m \u001b[0mX\u001b[0m\u001b[0;34m,\u001b[0m \u001b[0my\u001b[0m\u001b[0;34m\u001b[0m\u001b[0;34m\u001b[0m\u001b[0m\n\u001b[1;32m    632\u001b[0m         \u001b[0;32melif\u001b[0m \u001b[0;32mnot\u001b[0m \u001b[0mno_val_X\u001b[0m \u001b[0;32mand\u001b[0m \u001b[0mno_val_y\u001b[0m\u001b[0;34m:\u001b[0m\u001b[0;34m\u001b[0m\u001b[0;34m\u001b[0m\u001b[0m\n\u001b[0;32m--> 633\u001b[0;31m             \u001b[0mout\u001b[0m \u001b[0;34m=\u001b[0m \u001b[0mcheck_array\u001b[0m\u001b[0;34m(\u001b[0m\u001b[0mX\u001b[0m\u001b[0;34m,\u001b[0m \u001b[0minput_name\u001b[0m\u001b[0;34m=\u001b[0m\u001b[0;34m\"X\"\u001b[0m\u001b[0;34m,\u001b[0m \u001b[0;34m**\u001b[0m\u001b[0mcheck_params\u001b[0m\u001b[0;34m)\u001b[0m\u001b[0;34m\u001b[0m\u001b[0;34m\u001b[0m\u001b[0m\n\u001b[0m\u001b[1;32m    634\u001b[0m         \u001b[0;32melif\u001b[0m \u001b[0mno_val_X\u001b[0m \u001b[0;32mand\u001b[0m \u001b[0;32mnot\u001b[0m \u001b[0mno_val_y\u001b[0m\u001b[0;34m:\u001b[0m\u001b[0;34m\u001b[0m\u001b[0;34m\u001b[0m\u001b[0m\n\u001b[1;32m    635\u001b[0m             \u001b[0mout\u001b[0m \u001b[0;34m=\u001b[0m \u001b[0m_check_y\u001b[0m\u001b[0;34m(\u001b[0m\u001b[0my\u001b[0m\u001b[0;34m,\u001b[0m \u001b[0;34m**\u001b[0m\u001b[0mcheck_params\u001b[0m\u001b[0;34m)\u001b[0m\u001b[0;34m\u001b[0m\u001b[0;34m\u001b[0m\u001b[0m\n",
            "\u001b[0;32m/usr/local/lib/python3.10/dist-packages/sklearn/utils/validation.py\u001b[0m in \u001b[0;36mcheck_array\u001b[0;34m(array, accept_sparse, accept_large_sparse, dtype, order, copy, force_all_finite, ensure_2d, allow_nd, ensure_min_samples, ensure_min_features, estimator, input_name)\u001b[0m\n\u001b[1;32m   1005\u001b[0m                     \u001b[0marray\u001b[0m \u001b[0;34m=\u001b[0m \u001b[0mxp\u001b[0m\u001b[0;34m.\u001b[0m\u001b[0mastype\u001b[0m\u001b[0;34m(\u001b[0m\u001b[0marray\u001b[0m\u001b[0;34m,\u001b[0m \u001b[0mdtype\u001b[0m\u001b[0;34m,\u001b[0m \u001b[0mcopy\u001b[0m\u001b[0;34m=\u001b[0m\u001b[0;32mFalse\u001b[0m\u001b[0;34m)\u001b[0m\u001b[0;34m\u001b[0m\u001b[0;34m\u001b[0m\u001b[0m\n\u001b[1;32m   1006\u001b[0m                 \u001b[0;32melse\u001b[0m\u001b[0;34m:\u001b[0m\u001b[0;34m\u001b[0m\u001b[0;34m\u001b[0m\u001b[0m\n\u001b[0;32m-> 1007\u001b[0;31m                     \u001b[0marray\u001b[0m \u001b[0;34m=\u001b[0m \u001b[0m_asarray_with_order\u001b[0m\u001b[0;34m(\u001b[0m\u001b[0marray\u001b[0m\u001b[0;34m,\u001b[0m \u001b[0morder\u001b[0m\u001b[0;34m=\u001b[0m\u001b[0morder\u001b[0m\u001b[0;34m,\u001b[0m \u001b[0mdtype\u001b[0m\u001b[0;34m=\u001b[0m\u001b[0mdtype\u001b[0m\u001b[0;34m,\u001b[0m \u001b[0mxp\u001b[0m\u001b[0;34m=\u001b[0m\u001b[0mxp\u001b[0m\u001b[0;34m)\u001b[0m\u001b[0;34m\u001b[0m\u001b[0;34m\u001b[0m\u001b[0m\n\u001b[0m\u001b[1;32m   1008\u001b[0m             \u001b[0;32mexcept\u001b[0m \u001b[0mComplexWarning\u001b[0m \u001b[0;32mas\u001b[0m \u001b[0mcomplex_warning\u001b[0m\u001b[0;34m:\u001b[0m\u001b[0;34m\u001b[0m\u001b[0;34m\u001b[0m\u001b[0m\n\u001b[1;32m   1009\u001b[0m                 raise ValueError(\n",
            "\u001b[0;32m/usr/local/lib/python3.10/dist-packages/sklearn/utils/_array_api.py\u001b[0m in \u001b[0;36m_asarray_with_order\u001b[0;34m(array, dtype, order, copy, xp, device)\u001b[0m\n\u001b[1;32m    744\u001b[0m             \u001b[0marray\u001b[0m \u001b[0;34m=\u001b[0m \u001b[0mnumpy\u001b[0m\u001b[0;34m.\u001b[0m\u001b[0marray\u001b[0m\u001b[0;34m(\u001b[0m\u001b[0marray\u001b[0m\u001b[0;34m,\u001b[0m \u001b[0morder\u001b[0m\u001b[0;34m=\u001b[0m\u001b[0morder\u001b[0m\u001b[0;34m,\u001b[0m \u001b[0mdtype\u001b[0m\u001b[0;34m=\u001b[0m\u001b[0mdtype\u001b[0m\u001b[0;34m)\u001b[0m\u001b[0;34m\u001b[0m\u001b[0;34m\u001b[0m\u001b[0m\n\u001b[1;32m    745\u001b[0m         \u001b[0;32melse\u001b[0m\u001b[0;34m:\u001b[0m\u001b[0;34m\u001b[0m\u001b[0;34m\u001b[0m\u001b[0m\n\u001b[0;32m--> 746\u001b[0;31m             \u001b[0marray\u001b[0m \u001b[0;34m=\u001b[0m \u001b[0mnumpy\u001b[0m\u001b[0;34m.\u001b[0m\u001b[0masarray\u001b[0m\u001b[0;34m(\u001b[0m\u001b[0marray\u001b[0m\u001b[0;34m,\u001b[0m \u001b[0morder\u001b[0m\u001b[0;34m=\u001b[0m\u001b[0morder\u001b[0m\u001b[0;34m,\u001b[0m \u001b[0mdtype\u001b[0m\u001b[0;34m=\u001b[0m\u001b[0mdtype\u001b[0m\u001b[0;34m)\u001b[0m\u001b[0;34m\u001b[0m\u001b[0;34m\u001b[0m\u001b[0m\n\u001b[0m\u001b[1;32m    747\u001b[0m \u001b[0;34m\u001b[0m\u001b[0m\n\u001b[1;32m    748\u001b[0m         \u001b[0;31m# At this point array is a NumPy ndarray. We convert it to an array\u001b[0m\u001b[0;34m\u001b[0m\u001b[0;34m\u001b[0m\u001b[0m\n",
            "\u001b[0;31mValueError\u001b[0m: setting an array element with a sequence. The requested array has an inhomogeneous shape after 1 dimensions. The detected shape was (2,) + inhomogeneous part."
          ]
        }
      ]
    },
    {
      "cell_type": "markdown",
      "source": [
        "# DashBord Interativo"
      ],
      "metadata": {
        "id": "cJxUMS60r-vP"
      }
    },
    {
      "cell_type": "code",
      "source": [
        "!pip install dash\n"
      ],
      "metadata": {
        "colab": {
          "base_uri": "https://localhost:8080/"
        },
        "collapsed": true,
        "id": "dYNFR8qSsP4t",
        "outputId": "52e66026-9a39-4e84-bd7c-8941ed6f4b9b"
      },
      "execution_count": 18,
      "outputs": [
        {
          "output_type": "stream",
          "name": "stdout",
          "text": [
            "Requirement already satisfied: dash in /usr/local/lib/python3.10/dist-packages (2.17.0)\n",
            "Requirement already satisfied: Flask<3.1,>=1.0.4 in /usr/local/lib/python3.10/dist-packages (from dash) (2.2.5)\n",
            "Requirement already satisfied: Werkzeug<3.1 in /usr/local/lib/python3.10/dist-packages (from dash) (3.0.3)\n",
            "Requirement already satisfied: plotly>=5.0.0 in /usr/local/lib/python3.10/dist-packages (from dash) (5.15.0)\n",
            "Requirement already satisfied: dash-html-components==2.0.0 in /usr/local/lib/python3.10/dist-packages (from dash) (2.0.0)\n",
            "Requirement already satisfied: dash-core-components==2.0.0 in /usr/local/lib/python3.10/dist-packages (from dash) (2.0.0)\n",
            "Requirement already satisfied: dash-table==5.0.0 in /usr/local/lib/python3.10/dist-packages (from dash) (5.0.0)\n",
            "Requirement already satisfied: importlib-metadata in /usr/local/lib/python3.10/dist-packages (from dash) (7.1.0)\n",
            "Requirement already satisfied: typing-extensions>=4.1.1 in /usr/local/lib/python3.10/dist-packages (from dash) (4.11.0)\n",
            "Requirement already satisfied: requests in /usr/local/lib/python3.10/dist-packages (from dash) (2.31.0)\n",
            "Requirement already satisfied: retrying in /usr/local/lib/python3.10/dist-packages (from dash) (1.3.4)\n",
            "Requirement already satisfied: nest-asyncio in /usr/local/lib/python3.10/dist-packages (from dash) (1.6.0)\n",
            "Requirement already satisfied: setuptools in /usr/local/lib/python3.10/dist-packages (from dash) (67.7.2)\n",
            "Requirement already satisfied: Jinja2>=3.0 in /usr/local/lib/python3.10/dist-packages (from Flask<3.1,>=1.0.4->dash) (3.1.4)\n",
            "Requirement already satisfied: itsdangerous>=2.0 in /usr/local/lib/python3.10/dist-packages (from Flask<3.1,>=1.0.4->dash) (2.2.0)\n",
            "Requirement already satisfied: click>=8.0 in /usr/local/lib/python3.10/dist-packages (from Flask<3.1,>=1.0.4->dash) (8.1.7)\n",
            "Requirement already satisfied: tenacity>=6.2.0 in /usr/local/lib/python3.10/dist-packages (from plotly>=5.0.0->dash) (8.3.0)\n",
            "Requirement already satisfied: packaging in /usr/local/lib/python3.10/dist-packages (from plotly>=5.0.0->dash) (24.0)\n",
            "Requirement already satisfied: MarkupSafe>=2.1.1 in /usr/local/lib/python3.10/dist-packages (from Werkzeug<3.1->dash) (2.1.5)\n",
            "Requirement already satisfied: zipp>=0.5 in /usr/local/lib/python3.10/dist-packages (from importlib-metadata->dash) (3.18.2)\n",
            "Requirement already satisfied: charset-normalizer<4,>=2 in /usr/local/lib/python3.10/dist-packages (from requests->dash) (3.3.2)\n",
            "Requirement already satisfied: idna<4,>=2.5 in /usr/local/lib/python3.10/dist-packages (from requests->dash) (3.7)\n",
            "Requirement already satisfied: urllib3<3,>=1.21.1 in /usr/local/lib/python3.10/dist-packages (from requests->dash) (2.0.7)\n",
            "Requirement already satisfied: certifi>=2017.4.17 in /usr/local/lib/python3.10/dist-packages (from requests->dash) (2024.2.2)\n",
            "Requirement already satisfied: six>=1.7.0 in /usr/local/lib/python3.10/dist-packages (from retrying->dash) (1.16.0)\n"
          ]
        }
      ]
    },
    {
      "cell_type": "code",
      "source": [
        "import dash\n",
        "from dash import dcc, html\n",
        "from dash.dependencies import Input, Output, State\n",
        "import pandas as pd\n",
        "\n",
        "# Definir o layout do aplicativo\n",
        "app = dash.Dash(__name__)\n",
        "\n",
        "app.layout = html.Div([\n",
        "    html.H1('Aplicativo de Recomendação de Limite de Crédito'),\n",
        "    html.Div([\n",
        "        dcc.Input(id='input1', type='number', placeholder='Maior Atraso'),\n",
        "        dcc.Input(id='input2', type='number', placeholder='Margem Bruta Acumulada'),\n",
        "        dcc.Input(id='input3', type='number', placeholder='Percentual Protestos'),\n",
        "        dcc.Input(id='input4', type='number', placeholder='Faturamento Bruto'),\n",
        "        html.Button('Calcular', id='calcular-button'),\n",
        "        html.Div(id='limite-credito-output')\n",
        "    ])\n",
        "])\n",
        "\n",
        "# Função para recomendar o limite de crédito para um novo cliente (defina esta função)\n",
        "def recomendar_limite_credito(novo_cliente):\n",
        "    # Implemente sua lógica de recomendação de limite de crédito aqui\n",
        "    return limite_credito_recomendado\n",
        "\n",
        "# Callback para calcular o limite de crédito recomendado\n",
        "@app.callback(\n",
        "    Output('limite-credito-output', 'children'),\n",
        "    [Input('calcular-button', 'n_clicks')],\n",
        "    [State('input1', 'value'),\n",
        "     State('input2', 'value'),\n",
        "     State('input3', 'value'),\n",
        "     State('input4', 'value')]\n",
        ")\n",
        "def calcular_limite_credito(n_clicks, maior_atraso, margem_bruta_acumulada, percentual_protestos, faturamento_bruto):\n",
        "    if n_clicks is not None:\n",
        "        # Chamar a função de recomendação de limite de crédito aqui\n",
        "        limite_credito_recomendado = recomendar_limite_credito({\n",
        "            'maiorAtraso': maior_atraso,\n",
        "            'margemBrutaAcumulada': margem_bruta_acumulada,\n",
        "            'percentualProtestos': percentual_protestos,\n",
        "            'faturamentoBruto': faturamento_bruto\n",
        "        })\n",
        "        return f'Limite de Crédito Recomendado: {limite_credito_recomendado}'\n",
        "\n",
        "# Executar o aplicativo\n",
        "if __name__ == '__main__':\n",
        "    app.run_server(debug=True)\n"
      ],
      "metadata": {
        "colab": {
          "base_uri": "https://localhost:8080/",
          "height": 671
        },
        "id": "KW40R19jsf6E",
        "outputId": "5012e4ee-8c82-4631-ed53-2ae2191df718"
      },
      "execution_count": 34,
      "outputs": [
        {
          "output_type": "display_data",
          "data": {
            "text/plain": [
              "<IPython.core.display.Javascript object>"
            ],
            "application/javascript": [
              "(async (port, path, width, height, cache, element) => {\n",
              "    if (!google.colab.kernel.accessAllowed && !cache) {\n",
              "      return;\n",
              "    }\n",
              "    element.appendChild(document.createTextNode(''));\n",
              "    const url = await google.colab.kernel.proxyPort(port, {cache});\n",
              "    const iframe = document.createElement('iframe');\n",
              "    iframe.src = new URL(path, url).toString();\n",
              "    iframe.height = height;\n",
              "    iframe.width = width;\n",
              "    iframe.style.border = 0;\n",
              "    iframe.allow = [\n",
              "        'accelerometer',\n",
              "        'autoplay',\n",
              "        'camera',\n",
              "        'clipboard-read',\n",
              "        'clipboard-write',\n",
              "        'gyroscope',\n",
              "        'magnetometer',\n",
              "        'microphone',\n",
              "        'serial',\n",
              "        'usb',\n",
              "        'xr-spatial-tracking',\n",
              "    ].join('; ');\n",
              "    element.appendChild(iframe);\n",
              "  })(8050, \"/\", \"100%\", 650, false, window.element)"
            ]
          },
          "metadata": {}
        }
      ]
    },
    {
      "cell_type": "markdown",
      "source": [
        "# Importância das Características:"
      ],
      "metadata": {
        "id": "uLEPYG4-3nqR"
      }
    },
    {
      "cell_type": "markdown",
      "source": [
        "Você pode explorar a importância das características no modelo de cada grupo. Por exemplo, quais características têm mais peso na determinação do limite de crédito recomendado para cada grupo?"
      ],
      "metadata": {
        "id": "4DpUfBiYyxnS"
      }
    },
    {
      "cell_type": "code",
      "source": [
        "# Calcular a importância das características para cada modelo de grupo\n",
        "for grupo, modelo in modelos_por_grupo.items():\n",
        "    importancias_caracteristicas = modelo.feature_importances_\n",
        "    print(f\"Grupo {grupo}:\")\n",
        "    for i, importancia in enumerate(importancias_caracteristicas):\n",
        "        print(f\"   - {caracteristicas.columns[i]}: {importancia}\")\n"
      ],
      "metadata": {
        "colab": {
          "base_uri": "https://localhost:8080/"
        },
        "id": "bNLspXj63mlR",
        "outputId": "254f8c40-a698-4ca8-8db5-2bd4c41a1cdf"
      },
      "execution_count": 35,
      "outputs": [
        {
          "output_type": "stream",
          "name": "stdout",
          "text": [
            "Grupo 0:\n",
            "   - maiorAtraso: 0.0037655973551434987\n",
            "   - margemBrutaAcumulada: 0.0037365482441814304\n",
            "   - percentualProtestos: 0.0\n",
            "   - faturamentoBruto: 0.9924978544006751\n",
            "Grupo 1:\n",
            "   - maiorAtraso: 0.2010092152023075\n",
            "   - margemBrutaAcumulada: 0.5129862208604989\n",
            "   - percentualProtestos: 1.6845657156241565e-06\n",
            "   - faturamentoBruto: 0.28600287937147795\n",
            "Grupo 2:\n",
            "   - maiorAtraso: 0.058212895626744296\n",
            "   - margemBrutaAcumulada: 0.046427414920725656\n",
            "   - percentualProtestos: 0.0017799377271877053\n",
            "   - faturamentoBruto: 0.8935797517253423\n"
          ]
        }
      ]
    },
    {
      "cell_type": "markdown",
      "source": [
        "Esses resultados mostram a importância relativa de cada característica na determinação dos limites de crédito recomendados para cada grupo de clientes. Aqui está a interpretação:\n",
        "\n",
        "Grupo 0:\n",
        "\n",
        "A característica mais importante para este grupo é o faturamentoBruto, com uma importância de aproximadamente 99.25%. Isso sugere que, para clientes neste grupo, o faturamento bruto é o principal fator considerado ao recomendar limites de crédito. As outras características, como maiorAtraso e margemBrutaAcumulada, têm importâncias muito baixas em comparação com o faturamento bruto, quase insignificantes.\n",
        "Grupo 1:\n",
        "\n",
        "Neste grupo, a importância das características é mais equilibrada, mas a margemBrutaAcumulada é a mais influente, com cerca de 51.3%. Isso indica que, para clientes neste grupo, a margem bruta acumulada é o fator mais importante na recomendação de limites de crédito. A maiorAtraso também tem uma importância significativa, enquanto o percentualProtestos tem uma importância muito baixa em comparação com outras características.\n",
        "Grupo 2:\n",
        "\n",
        "Assim como no Grupo 0, o faturamentoBruto é a característica mais importante para este grupo, com uma importância de aproximadamente 89.36%. Isso sugere que o faturamento bruto é um fator crucial na determinação dos limites de crédito recomendados para clientes neste grupo. No entanto, as outras características também têm alguma influência, com a maiorAtraso e a margemBrutaAcumulada contribuindo com importâncias significativas, embora menores em comparação com o faturamento bruto. O percentualProtestos tem uma importância muito baixa."
      ],
      "metadata": {
        "id": "l-Pj6_KS5RXd"
      }
    },
    {
      "cell_type": "code",
      "source": [
        "# Obtendo a importância das características para cada grupo\n",
        "importancias_caracteristicas_por_grupo = {}\n",
        "for grupo, modelo in modelos_por_grupo.items():\n",
        "    importancias_caracteristicas = modelo.feature_importances_\n",
        "    importancias_caracteristicas_por_grupo[grupo] = importancias_caracteristicas\n",
        "\n",
        "# Convertendo para DataFrame para visualização\n",
        "df_importancias_caracteristicas = pd.DataFrame(importancias_caracteristicas_por_grupo, index=X_grupo.columns)\n",
        "\n",
        "# Plotando as importâncias das características para cada grupo\n",
        "import matplotlib.pyplot as plt\n",
        "\n",
        "fig, ax = plt.subplots(figsize=(10, 6))\n",
        "df_importancias_caracteristicas.plot(kind='bar', ax=ax)\n",
        "plt.title('Importância das Características por Grupo')\n",
        "plt.xlabel('Características')\n",
        "plt.ylabel('Importância')\n",
        "plt.xticks(rotation=45)\n",
        "plt.legend(title='Grupo')\n",
        "plt.tight_layout()\n",
        "plt.show()\n"
      ],
      "metadata": {
        "colab": {
          "base_uri": "https://localhost:8080/",
          "height": 607
        },
        "id": "fqvM5kOrysr6",
        "outputId": "ce2d9ad0-916c-431d-c034-7475280712bb"
      },
      "execution_count": 36,
      "outputs": [
        {
          "output_type": "display_data",
          "data": {
            "text/plain": [
              "<Figure size 1000x600 with 1 Axes>"
            ],
            "image/png": "[encoded data removed]"
          },
          "metadata": {}
        }
      ]
    },
    {
      "cell_type": "markdown",
      "source": [
        "# Variação dos Limites de Crédito Recomendados:"
      ],
      "metadata": {
        "id": "lIfCSMPD3xcW"
      }
    },
    {
      "cell_type": "code",
      "source": [],
      "metadata": {
        "id": "pFyGWBo9PLHa"
      },
      "execution_count": null,
      "outputs": []
    },
    {
      "cell_type": "code",
      "source": [
        "# Calcular a variação dos limites de crédito recomendados para cada grupo\n",
        "for grupo, limites in limites_recomendados_por_grupo.items():\n",
        "    min_limite = min(limites)\n",
        "    max_limite = max(limites)\n",
        "    print(f\"Grupo {grupo}:\")\n",
        "    print(f\"   - Mínimo: {min_limite}\")\n",
        "    print(f\"   - Máximo: {max_limite}\")\n"
      ],
      "metadata": {
        "colab": {
          "base_uri": "https://localhost:8080/",
          "height": 207
        },
        "id": "PEvt6CKW3wgr",
        "outputId": "ed9375b1-0fd6-49df-9e91-2efd9fc12487"
      },
      "execution_count": 42,
      "outputs": [
        {
          "output_type": "error",
          "ename": "TypeError",
          "evalue": "'<' not supported between instances of 'NoneType' and 'NoneType'",
          "traceback": [
            "\u001b[0;31m---------------------------------------------------------------------------\u001b[0m",
            "\u001b[0;31mTypeError\u001b[0m                                 Traceback (most recent call last)",
            "\u001b[0;32m<ipython-input-42-2ebbddd5ae73>\u001b[0m in \u001b[0;36m<cell line: 2>\u001b[0;34m()\u001b[0m\n\u001b[1;32m      1\u001b[0m \u001b[0;31m# Calcular a variação dos limites de crédito recomendados para cada grupo\u001b[0m\u001b[0;34m\u001b[0m\u001b[0;34m\u001b[0m\u001b[0m\n\u001b[1;32m      2\u001b[0m \u001b[0;32mfor\u001b[0m \u001b[0mgrupo\u001b[0m\u001b[0;34m,\u001b[0m \u001b[0mlimites\u001b[0m \u001b[0;32min\u001b[0m \u001b[0mlimites_recomendados_por_grupo\u001b[0m\u001b[0;34m.\u001b[0m\u001b[0mitems\u001b[0m\u001b[0;34m(\u001b[0m\u001b[0;34m)\u001b[0m\u001b[0;34m:\u001b[0m\u001b[0;34m\u001b[0m\u001b[0;34m\u001b[0m\u001b[0m\n\u001b[0;32m----> 3\u001b[0;31m     \u001b[0mmin_limite\u001b[0m \u001b[0;34m=\u001b[0m \u001b[0mmin\u001b[0m\u001b[0;34m(\u001b[0m\u001b[0mlimites\u001b[0m\u001b[0;34m)\u001b[0m\u001b[0;34m\u001b[0m\u001b[0;34m\u001b[0m\u001b[0m\n\u001b[0m\u001b[1;32m      4\u001b[0m     \u001b[0mmax_limite\u001b[0m \u001b[0;34m=\u001b[0m \u001b[0mmax\u001b[0m\u001b[0;34m(\u001b[0m\u001b[0mlimites\u001b[0m\u001b[0;34m)\u001b[0m\u001b[0;34m\u001b[0m\u001b[0;34m\u001b[0m\u001b[0m\n\u001b[1;32m      5\u001b[0m     \u001b[0mprint\u001b[0m\u001b[0;34m(\u001b[0m\u001b[0;34mf\"Grupo {grupo}:\"\u001b[0m\u001b[0;34m)\u001b[0m\u001b[0;34m\u001b[0m\u001b[0;34m\u001b[0m\u001b[0m\n",
            "\u001b[0;31mTypeError\u001b[0m: '<' not supported between instances of 'NoneType' and 'NoneType'"
          ]
        }
      ]
    },
    {
      "cell_type": "markdown",
      "source": [
        "Esses resultados indicam a variação dos limites de crédito recomendados para cada grupo de clientes. Aqui está a interpretação:\n",
        "\n",
        "Grupo 0:\n",
        "\n",
        "Mínimo: O limite de crédito mínimo recomendado para este grupo é 0.0. Isso significa que alguns clientes podem ter um limite de crédito recomendado igual a zero, o que pode indicar uma situação de alto risco de crédito ou restrições financeiras significativas.\n",
        "Máximo: O limite de crédito máximo recomendado para este grupo é 0.13429649484. Isso indica o limite mais alto que foi recomendado para qualquer cliente neste grupo. Clientes com características específicas podem ter um limite de crédito mais alto dentro deste grupo.\n",
        "Grupo 1:\n",
        "\n",
        "Mínimo: O limite de crédito mínimo recomendado para este grupo é 0.0458381319. Isso indica que mesmo os clientes com menor risco ou melhores condições financeiras têm um limite mínimo recomendado mais alto do que no Grupo 0.\n",
        "Máximo: O limite de crédito máximo recomendado para este grupo é 0.2. Isso pode indicar que alguns clientes neste grupo têm condições financeiras muito favoráveis, resultando em limites de crédito mais altos.\n",
        "Grupo 2:\n",
        "\n",
        "Mínimo: O limite de crédito mínimo recomendado para este grupo é 0.0, o que é semelhante ao Grupo 0. Isso sugere que também pode haver clientes neste grupo com restrições financeiras significativas ou alto risco de crédito.\n",
        "Máximo: O limite de crédito máximo recomendado para este grupo é 0.11607068784000002. Isso indica que, embora possa haver clientes com limites de crédito mais baixos, alguns clientes podem ter condições financeiras melhores em comparação com o Grupo 0, resultando em limites de crédito mais altos."
      ],
      "metadata": {
        "id": "_jG_NM3g4j2q"
      }
    },
    {
      "cell_type": "code",
      "source": [
        "# Coletando os limites de crédito recomendados para cada grupo\n",
        "limites_recomendados_por_grupo_lista = [limites_recomendados_por_grupo[grupo] for grupo in range(n_clusters)]\n",
        "\n",
        "# Plotando os limites de crédito recomendados para cada grupo\n",
        "fig, ax = plt.subplots(figsize=(10, 6))\n",
        "ax.boxplot(limites_recomendados_por_grupo_lista, labels=[f'Grupo {grupo}' for grupo in range(n_clusters)])\n",
        "plt.title('Distribuição dos Limites de Crédito Recomendados por Grupo')\n",
        "plt.xlabel('Grupo')\n",
        "plt.ylabel('Limite de Crédito Recomendado')\n",
        "plt.tight_layout()\n",
        "plt.show()\n"
      ],
      "metadata": {
        "colab": {
          "base_uri": "https://localhost:8080/",
          "height": 861
        },
        "id": "CSh1etmzzcuK",
        "outputId": "537a7a2e-59e4-40a0-8d72-57e343372ce2"
      },
      "execution_count": 41,
      "outputs": [
        {
          "output_type": "error",
          "ename": "TypeError",
          "evalue": "unsupported operand type(s) for +: 'NoneType' and 'NoneType'",
          "traceback": [
            "\u001b[0;31m---------------------------------------------------------------------------\u001b[0m",
            "\u001b[0;31mTypeError\u001b[0m                                 Traceback (most recent call last)",
            "\u001b[0;32m<ipython-input-41-3eb2d5a4dc3a>\u001b[0m in \u001b[0;36m<cell line: 6>\u001b[0;34m()\u001b[0m\n\u001b[1;32m      4\u001b[0m \u001b[0;31m# Plotando os limites de crédito recomendados para cada grupo\u001b[0m\u001b[0;34m\u001b[0m\u001b[0;34m\u001b[0m\u001b[0m\n\u001b[1;32m      5\u001b[0m \u001b[0mfig\u001b[0m\u001b[0;34m,\u001b[0m \u001b[0max\u001b[0m \u001b[0;34m=\u001b[0m \u001b[0mplt\u001b[0m\u001b[0;34m.\u001b[0m\u001b[0msubplots\u001b[0m\u001b[0;34m(\u001b[0m\u001b[0mfigsize\u001b[0m\u001b[0;34m=\u001b[0m\u001b[0;34m(\u001b[0m\u001b[0;36m10\u001b[0m\u001b[0;34m,\u001b[0m \u001b[0;36m6\u001b[0m\u001b[0;34m)\u001b[0m\u001b[0;34m)\u001b[0m\u001b[0;34m\u001b[0m\u001b[0;34m\u001b[0m\u001b[0m\n\u001b[0;32m----> 6\u001b[0;31m \u001b[0max\u001b[0m\u001b[0;34m.\u001b[0m\u001b[0mboxplot\u001b[0m\u001b[0;34m(\u001b[0m\u001b[0mlimites_recomendados_por_grupo_lista\u001b[0m\u001b[0;34m,\u001b[0m \u001b[0mlabels\u001b[0m\u001b[0;34m=\u001b[0m\u001b[0;34m[\u001b[0m\u001b[0;34mf'Grupo {grupo}'\u001b[0m \u001b[0;32mfor\u001b[0m \u001b[0mgrupo\u001b[0m \u001b[0;32min\u001b[0m \u001b[0mrange\u001b[0m\u001b[0;34m(\u001b[0m\u001b[0mn_clusters\u001b[0m\u001b[0;34m)\u001b[0m\u001b[0;34m]\u001b[0m\u001b[0;34m)\u001b[0m\u001b[0;34m\u001b[0m\u001b[0;34m\u001b[0m\u001b[0m\n\u001b[0m\u001b[1;32m      7\u001b[0m \u001b[0mplt\u001b[0m\u001b[0;34m.\u001b[0m\u001b[0mtitle\u001b[0m\u001b[0;34m(\u001b[0m\u001b[0;34m'Distribuição dos Limites de Crédito Recomendados por Grupo'\u001b[0m\u001b[0;34m)\u001b[0m\u001b[0;34m\u001b[0m\u001b[0;34m\u001b[0m\u001b[0m\n\u001b[1;32m      8\u001b[0m \u001b[0mplt\u001b[0m\u001b[0;34m.\u001b[0m\u001b[0mxlabel\u001b[0m\u001b[0;34m(\u001b[0m\u001b[0;34m'Grupo'\u001b[0m\u001b[0;34m)\u001b[0m\u001b[0;34m\u001b[0m\u001b[0;34m\u001b[0m\u001b[0m\n",
            "\u001b[0;32m/usr/local/lib/python3.10/dist-packages/matplotlib/__init__.py\u001b[0m in \u001b[0;36minner\u001b[0;34m(ax, data, *args, **kwargs)\u001b[0m\n\u001b[1;32m   1440\u001b[0m     \u001b[0;32mdef\u001b[0m \u001b[0minner\u001b[0m\u001b[0;34m(\u001b[0m\u001b[0max\u001b[0m\u001b[0;34m,\u001b[0m \u001b[0;34m*\u001b[0m\u001b[0margs\u001b[0m\u001b[0;34m,\u001b[0m \u001b[0mdata\u001b[0m\u001b[0;34m=\u001b[0m\u001b[0;32mNone\u001b[0m\u001b[0;34m,\u001b[0m \u001b[0;34m**\u001b[0m\u001b[0mkwargs\u001b[0m\u001b[0;34m)\u001b[0m\u001b[0;34m:\u001b[0m\u001b[0;34m\u001b[0m\u001b[0;34m\u001b[0m\u001b[0m\n\u001b[1;32m   1441\u001b[0m         \u001b[0;32mif\u001b[0m \u001b[0mdata\u001b[0m \u001b[0;32mis\u001b[0m \u001b[0;32mNone\u001b[0m\u001b[0;34m:\u001b[0m\u001b[0;34m\u001b[0m\u001b[0;34m\u001b[0m\u001b[0m\n\u001b[0;32m-> 1442\u001b[0;31m             \u001b[0;32mreturn\u001b[0m \u001b[0mfunc\u001b[0m\u001b[0;34m(\u001b[0m\u001b[0max\u001b[0m\u001b[0;34m,\u001b[0m \u001b[0;34m*\u001b[0m\u001b[0mmap\u001b[0m\u001b[0;34m(\u001b[0m\u001b[0msanitize_sequence\u001b[0m\u001b[0;34m,\u001b[0m \u001b[0margs\u001b[0m\u001b[0;34m)\u001b[0m\u001b[0;34m,\u001b[0m \u001b[0;34m**\u001b[0m\u001b[0mkwargs\u001b[0m\u001b[0;34m)\u001b[0m\u001b[0;34m\u001b[0m\u001b[0;34m\u001b[0m\u001b[0m\n\u001b[0m\u001b[1;32m   1443\u001b[0m \u001b[0;34m\u001b[0m\u001b[0m\n\u001b[1;32m   1444\u001b[0m         \u001b[0mbound\u001b[0m \u001b[0;34m=\u001b[0m \u001b[0mnew_sig\u001b[0m\u001b[0;34m.\u001b[0m\u001b[0mbind\u001b[0m\u001b[0;34m(\u001b[0m\u001b[0max\u001b[0m\u001b[0;34m,\u001b[0m \u001b[0;34m*\u001b[0m\u001b[0margs\u001b[0m\u001b[0;34m,\u001b[0m \u001b[0;34m**\u001b[0m\u001b[0mkwargs\u001b[0m\u001b[0;34m)\u001b[0m\u001b[0;34m\u001b[0m\u001b[0;34m\u001b[0m\u001b[0m\n",
            "\u001b[0;32m/usr/local/lib/python3.10/dist-packages/matplotlib/axes/_axes.py\u001b[0m in \u001b[0;36mboxplot\u001b[0;34m(self, x, notch, sym, vert, whis, positions, widths, patch_artist, bootstrap, usermedians, conf_intervals, meanline, showmeans, showcaps, showbox, showfliers, boxprops, labels, flierprops, medianprops, meanprops, capprops, whiskerprops, manage_ticks, autorange, zorder, capwidths)\u001b[0m\n\u001b[1;32m   3912\u001b[0m             \u001b[0mbootstrap\u001b[0m \u001b[0;34m=\u001b[0m \u001b[0mmpl\u001b[0m\u001b[0;34m.\u001b[0m\u001b[0mrcParams\u001b[0m\u001b[0;34m[\u001b[0m\u001b[0;34m'boxplot.bootstrap'\u001b[0m\u001b[0;34m]\u001b[0m\u001b[0;34m\u001b[0m\u001b[0;34m\u001b[0m\u001b[0m\n\u001b[1;32m   3913\u001b[0m \u001b[0;34m\u001b[0m\u001b[0m\n\u001b[0;32m-> 3914\u001b[0;31m         bxpstats = cbook.boxplot_stats(x, whis=whis, bootstrap=bootstrap,\n\u001b[0m\u001b[1;32m   3915\u001b[0m                                        labels=labels, autorange=autorange)\n\u001b[1;32m   3916\u001b[0m         \u001b[0;32mif\u001b[0m \u001b[0mnotch\u001b[0m \u001b[0;32mis\u001b[0m \u001b[0;32mNone\u001b[0m\u001b[0;34m:\u001b[0m\u001b[0;34m\u001b[0m\u001b[0;34m\u001b[0m\u001b[0m\n",
            "\u001b[0;32m/usr/local/lib/python3.10/dist-packages/matplotlib/cbook/__init__.py\u001b[0m in \u001b[0;36mboxplot_stats\u001b[0;34m(X, whis, bootstrap, labels, autorange)\u001b[0m\n\u001b[1;32m   1230\u001b[0m \u001b[0;34m\u001b[0m\u001b[0m\n\u001b[1;32m   1231\u001b[0m         \u001b[0;31m# arithmetic mean\u001b[0m\u001b[0;34m\u001b[0m\u001b[0;34m\u001b[0m\u001b[0m\n\u001b[0;32m-> 1232\u001b[0;31m         \u001b[0mstats\u001b[0m\u001b[0;34m[\u001b[0m\u001b[0;34m'mean'\u001b[0m\u001b[0;34m]\u001b[0m \u001b[0;34m=\u001b[0m \u001b[0mnp\u001b[0m\u001b[0;34m.\u001b[0m\u001b[0mmean\u001b[0m\u001b[0;34m(\u001b[0m\u001b[0mx\u001b[0m\u001b[0;34m)\u001b[0m\u001b[0;34m\u001b[0m\u001b[0;34m\u001b[0m\u001b[0m\n\u001b[0m\u001b[1;32m   1233\u001b[0m \u001b[0;34m\u001b[0m\u001b[0m\n\u001b[1;32m   1234\u001b[0m         \u001b[0;31m# medians and quartiles\u001b[0m\u001b[0;34m\u001b[0m\u001b[0;34m\u001b[0m\u001b[0m\n",
            "\u001b[0;32m/usr/local/lib/python3.10/dist-packages/numpy/core/fromnumeric.py\u001b[0m in \u001b[0;36mmean\u001b[0;34m(a, axis, dtype, out, keepdims, where)\u001b[0m\n\u001b[1;32m   3502\u001b[0m             \u001b[0;32mreturn\u001b[0m \u001b[0mmean\u001b[0m\u001b[0;34m(\u001b[0m\u001b[0maxis\u001b[0m\u001b[0;34m=\u001b[0m\u001b[0maxis\u001b[0m\u001b[0;34m,\u001b[0m \u001b[0mdtype\u001b[0m\u001b[0;34m=\u001b[0m\u001b[0mdtype\u001b[0m\u001b[0;34m,\u001b[0m \u001b[0mout\u001b[0m\u001b[0;34m=\u001b[0m\u001b[0mout\u001b[0m\u001b[0;34m,\u001b[0m \u001b[0;34m**\u001b[0m\u001b[0mkwargs\u001b[0m\u001b[0;34m)\u001b[0m\u001b[0;34m\u001b[0m\u001b[0;34m\u001b[0m\u001b[0m\n\u001b[1;32m   3503\u001b[0m \u001b[0;34m\u001b[0m\u001b[0m\n\u001b[0;32m-> 3504\u001b[0;31m     return _methods._mean(a, axis=axis, dtype=dtype,\n\u001b[0m\u001b[1;32m   3505\u001b[0m                           out=out, **kwargs)\n\u001b[1;32m   3506\u001b[0m \u001b[0;34m\u001b[0m\u001b[0m\n",
            "\u001b[0;32m/usr/local/lib/python3.10/dist-packages/numpy/core/_methods.py\u001b[0m in \u001b[0;36m_mean\u001b[0;34m(a, axis, dtype, out, keepdims, where)\u001b[0m\n\u001b[1;32m    116\u001b[0m             \u001b[0mis_float16_result\u001b[0m \u001b[0;34m=\u001b[0m \u001b[0;32mTrue\u001b[0m\u001b[0;34m\u001b[0m\u001b[0;34m\u001b[0m\u001b[0m\n\u001b[1;32m    117\u001b[0m \u001b[0;34m\u001b[0m\u001b[0m\n\u001b[0;32m--> 118\u001b[0;31m     \u001b[0mret\u001b[0m \u001b[0;34m=\u001b[0m \u001b[0mumr_sum\u001b[0m\u001b[0;34m(\u001b[0m\u001b[0marr\u001b[0m\u001b[0;34m,\u001b[0m \u001b[0maxis\u001b[0m\u001b[0;34m,\u001b[0m \u001b[0mdtype\u001b[0m\u001b[0;34m,\u001b[0m \u001b[0mout\u001b[0m\u001b[0;34m,\u001b[0m \u001b[0mkeepdims\u001b[0m\u001b[0;34m,\u001b[0m \u001b[0mwhere\u001b[0m\u001b[0;34m=\u001b[0m\u001b[0mwhere\u001b[0m\u001b[0;34m)\u001b[0m\u001b[0;34m\u001b[0m\u001b[0;34m\u001b[0m\u001b[0m\n\u001b[0m\u001b[1;32m    119\u001b[0m     \u001b[0;32mif\u001b[0m \u001b[0misinstance\u001b[0m\u001b[0;34m(\u001b[0m\u001b[0mret\u001b[0m\u001b[0;34m,\u001b[0m \u001b[0mmu\u001b[0m\u001b[0;34m.\u001b[0m\u001b[0mndarray\u001b[0m\u001b[0;34m)\u001b[0m\u001b[0;34m:\u001b[0m\u001b[0;34m\u001b[0m\u001b[0;34m\u001b[0m\u001b[0m\n\u001b[1;32m    120\u001b[0m         \u001b[0;32mwith\u001b[0m \u001b[0m_no_nep50_warning\u001b[0m\u001b[0;34m(\u001b[0m\u001b[0;34m)\u001b[0m\u001b[0;34m:\u001b[0m\u001b[0;34m\u001b[0m\u001b[0;34m\u001b[0m\u001b[0m\n",
            "\u001b[0;31mTypeError\u001b[0m: unsupported operand type(s) for +: 'NoneType' and 'NoneType'"
          ]
        },
        {
          "output_type": "display_data",
          "data": {
            "text/plain": [
              "<Figure size 1000x600 with 1 Axes>"
            ],
            "image/png": "[encoded data removed]"
          },
          "metadata": {}
        }
      ]
    },
    {
      "cell_type": "markdown",
      "source": [
        "Validação do Modelo:\n"
      ],
      "metadata": {
        "id": "UvTskSi138YV"
      }
    },
    {
      "cell_type": "code",
      "source": [
        "# Calcular RMSE para cada grupo\n",
        "for grupo in range(n_clusters):\n",
        "    dados_grupo = dados_sem_nan[dados_sem_nan['grupo_cliente'] == grupo]\n",
        "    X_grupo = dados_grupo[['maiorAtraso', 'margemBrutaAcumulada', 'percentualProtestos', 'faturamentoBruto']]\n",
        "    y_grupo = dados_grupo['limiteEmpresaAnaliseCredito']\n",
        "\n",
        "    X_grupo_imputado, _ = trata_dados(X_grupo)\n",
        "    X_grupo_padronizado = scaler.transform(X_grupo_imputado)\n",
        "\n",
        "    previsoes = modelos_por_grupo[grupo].predict(X_grupo_padronizado)\n",
        "    rmse = root_mean_squared_error(y_grupo, previsoes)\n",
        "    print(f'RMSE para o Grupo {grupo}: {rmse}')\n"
      ],
      "metadata": {
        "id": "o6qZgOxT350G"
      },
      "execution_count": null,
      "outputs": []
    }
  ]
}