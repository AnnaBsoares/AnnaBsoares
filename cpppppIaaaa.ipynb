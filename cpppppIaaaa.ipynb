{
  "nbformat": 4,
  "nbformat_minor": 0,
  "metadata": {
    "colab": {
      "provenance": [],
      "toc_visible": true,
      "authorship_tag": "ABX9TyMsN/CXMFb+VrINyPQklDUN",
      "include_colab_link": true
    },
    "kernelspec": {
      "name": "python3",
      "display_name": "Python 3"
    },
    "language_info": {
      "name": "python"
    }
  },
  "cells": [
    {
      "cell_type": "markdown",
      "metadata": {
        "id": "view-in-github",
        "colab_type": "text"
      },
      "source": [
        "<a href=\"https://colab.research.google.com/github/AnnaBsoares/AnnaBsoares/blob/main/cpppppIaaaa.ipynb\" target=\"_parent\"><img src=\"https://colab.research.google.com/assets/colab-badge.svg\" alt=\"Open In Colab\"/></a>"
      ]
    },
    {
      "cell_type": "code",
      "execution_count": 1,
      "metadata": {
        "id": "lzQLvQ77AE2u"
      },
      "outputs": [],
      "source": [
        "import pandas as pd\n",
        "from sklearn.model_selection import train_test_split\n",
        "from sklearn.ensemble import RandomForestRegressor\n",
        "from sklearn.preprocessing import StandardScaler\n",
        "from sklearn.impute import SimpleImputer\n",
        "from sklearn.cluster import KMeans\n",
        "from sklearn.metrics import mean_squared_error"
      ]
    },
    {
      "cell_type": "markdown",
      "source": [
        "Importamos bibliotecas essenciais para manipulação de dados (pandas), criação de modelos (RandomForestRegressor), escalonamento de dados (StandardScaler), imputação de valores ausentes (SimpleImputer), clusterização (KMeans) e avaliação do modelo (mean_squared_error)."
      ],
      "metadata": {
        "id": "XLFyjj31C_eV"
      }
    },
    {
      "cell_type": "markdown",
      "source": [
        "# Tratar dados"
      ],
      "metadata": {
        "id": "kacNCfDDEpeU"
      }
    },
    {
      "cell_type": "code",
      "source": [
        "# Função para tratar dados (imputação)\n",
        "def trata_dados(dados):\n",
        "    imputer = SimpleImputer(strategy='mean')\n",
        "    dados_imputados = imputer.fit_transform(dados)\n",
        "    return pd.DataFrame(dados_imputados, columns=dados.columns), imputer\n"
      ],
      "metadata": {
        "id": "ovHJlkMPAjpF"
      },
      "execution_count": 2,
      "outputs": []
    },
    {
      "cell_type": "markdown",
      "source": [
        "A função trata_dados recebe um DataFrame e substitui valores ausentes pela média das respectivas colunas, retornando o DataFrame imputado e o objeto imputer usado para essa transformação."
      ],
      "metadata": {
        "id": "ymplyJT8DGil"
      }
    },
    {
      "cell_type": "markdown",
      "source": [],
      "metadata": {
        "id": "LpFAU5vvDBCs"
      }
    },
    {
      "cell_type": "code",
      "source": [
        "# Carregar e preparar dados\n",
        "dados = pd.read_csv('/content/solicitacoescredito.csv')\n",
        "dados_sem_nan = dados.dropna(subset=['limiteEmpresaAnaliseCredito']).copy()\n"
      ],
      "metadata": {
        "id": "MmN8Q-rBAmgF"
      },
      "execution_count": 3,
      "outputs": []
    },
    {
      "cell_type": "markdown",
      "source": [
        "Os dados são carregados de um arquivo CSV.\n",
        "As linhas que possuem valores ausentes na coluna limiteEmpresaAnaliseCredito são removidas."
      ],
      "metadata": {
        "id": "MZjjSmZ_DNwn"
      }
    },
    {
      "cell_type": "markdown",
      "source": [
        "# Selecionar características e alvo"
      ],
      "metadata": {
        "id": "NcRPsv1GEtbj"
      }
    },
    {
      "cell_type": "code",
      "source": [
        "# Selecionar características e alvo\n",
        "caracteristicas = dados_sem_nan[['maiorAtraso', 'margemBrutaAcumulada', 'percentualProtestos', 'faturamentoBruto']]\n",
        "alvo = dados_sem_nan['limiteEmpresaAnaliseCredito']\n"
      ],
      "metadata": {
        "id": "ooKxNafmDTWZ"
      },
      "execution_count": 4,
      "outputs": []
    },
    {
      "cell_type": "markdown",
      "source": [
        "Selecionamos as características (variáveis independentes) e o alvo (variável dependente) do DataFrame."
      ],
      "metadata": {
        "id": "EzxeaOr5DVLy"
      }
    },
    {
      "cell_type": "markdown",
      "source": [
        "# Imputar valores ausentes e padronizar dados"
      ],
      "metadata": {
        "id": "ywmImwO5ExWT"
      }
    },
    {
      "cell_type": "code",
      "source": [
        "# Imputar valores ausentes e padronizar dados\n",
        "caracteristicas, imputer = trata_dados(caracteristicas)\n",
        "scaler = StandardScaler()\n",
        "caracteristicas_padronizadas = scaler.fit_transform(caracteristicas)\n"
      ],
      "metadata": {
        "id": "c3XNV7XGDZqN"
      },
      "execution_count": 5,
      "outputs": []
    },
    {
      "cell_type": "markdown",
      "source": [
        "Imputamos valores ausentes nas características usando a função trata_dados.\n",
        "Padronizamos os dados (z-score normalization) para que todas as características tenham média 0 e desvio padrão 1."
      ],
      "metadata": {
        "id": "33_0Fh8LDciJ"
      }
    },
    {
      "cell_type": "markdown",
      "source": [
        "# classificação usando KMeans\n",
        "## Segmentação dos clientes usando KMeans"
      ],
      "metadata": {
        "id": "SRdHqw2GE07a"
      }
    },
    {
      "cell_type": "code",
      "source": [
        "# Segmentação dos clientes usando KMeans\n",
        "n_clusters = 3  # Defina o número de clusters conforme necessário\n",
        "kmeans = KMeans(n_clusters=n_clusters, n_init=10, random_state=42)\n",
        "rotulos_clusters = kmeans.fit_predict(caracteristicas_padronizadas)\n"
      ],
      "metadata": {
        "id": "oGKDygdDDe7h"
      },
      "execution_count": 6,
      "outputs": []
    },
    {
      "cell_type": "markdown",
      "source": [
        "Definimos o número de clusters (grupos).\n",
        "Aplicamos KMeans para segmentar os clientes com base nas características padronizadas."
      ],
      "metadata": {
        "id": "lu6xpH1pDiO8"
      }
    },
    {
      "cell_type": "code",
      "source": [
        "# Adicionar os rótulos dos clusters ao DataFrame usando .loc para evitar SettingWithCopyWarning\n",
        "dados_sem_nan.loc[:, 'grupo_cliente'] = rotulos_clusters\n"
      ],
      "metadata": {
        "id": "q7rajc_-DkVM"
      },
      "execution_count": 7,
      "outputs": []
    },
    {
      "cell_type": "markdown",
      "source": [
        "Adicionamos os rótulos dos clusters ao DataFrame original para identificar a qual grupo cada cliente pertence.\n",
        "\n"
      ],
      "metadata": {
        "id": "rkdlhPR6DlY8"
      }
    },
    {
      "cell_type": "code",
      "source": [
        "# Exibir o DataFrame resultante\n",
        "print(dados_sem_nan)\n"
      ],
      "metadata": {
        "colab": {
          "base_uri": "https://localhost:8080/"
        },
        "collapsed": true,
        "id": "4mMEpsvPDqZr",
        "outputId": "065860ef-b28d-46a8-ec9c-3ed3ceda6ead"
      },
      "execution_count": 8,
      "outputs": [
        {
          "output_type": "stream",
          "name": "stdout",
          "text": [
            "      numero_solicitacao             razaoSocial        nomeFantasia  \\\n",
            "0                      1  James Richardson-Patel  Alexandra Williams   \n",
            "2                      3           Joanna Hudson      Dr. David Rees   \n",
            "3                      4    Gordon Jones-Hopkins    Sara Reid-Robson   \n",
            "4                      5               Nigel Lee  Dr. Stanley Duncan   \n",
            "5                      6            Liam Jackson       Gerard Gordon   \n",
            "...                  ...                     ...                 ...   \n",
            "8958                9031              Joel Allan        Gavin Holden   \n",
            "8959                9032          Douglas Taylor           Dale Lowe   \n",
            "8960                9033               Jamie Cox        Kirsty Jones   \n",
            "8961                9034             Sara Foster          Dean Price   \n",
            "8963                9036               June Lane  Miss Sharon Peters   \n",
            "\n",
            "            cnpjSemTraco  maiorAtraso  margemBrutaAcumulada  \\\n",
            "0     KEBE17609492220843            0              0.252448   \n",
            "2     GCVQ28531614261293            4              0.624777   \n",
            "3     KJND32266018316396           20              0.000000   \n",
            "4     CGQN15826802440348           20              0.454088   \n",
            "5     KAYS53232027306925            0              0.000000   \n",
            "...                  ...          ...                   ...   \n",
            "8958  XIIJ66670040144884            4              0.536739   \n",
            "8959  JXCH36268697453955           18              0.374573   \n",
            "8960  IPFS70635894073808            0              0.462250   \n",
            "8961  IFOK15843566708440           64              0.426652   \n",
            "8963  VKMN77216991472135           18              0.490166   \n",
            "\n",
            "      percentualProtestos       primeiraCompra  prazoMedioRecebimentoVendas  \\\n",
            "0                     0.0  2015-12-10T00:00:00                            0   \n",
            "2                     0.0  2019-11-27T00:00:00                            0   \n",
            "3                     NaN  2017-02-13T17:20:27                            0   \n",
            "4                     0.0  2010-07-13T00:00:00                           20   \n",
            "5                     NaN  2019-06-28T10:25:57                            0   \n",
            "...                   ...                  ...                          ...   \n",
            "8958                  0.0  2013-02-07T00:00:00                           28   \n",
            "8959                  0.0  2014-02-21T00:00:00                           44   \n",
            "8960                  0.0  2020-07-31T00:00:00                            0   \n",
            "8961                  0.0  2006-07-07T00:00:00                           64   \n",
            "8963                  0.0  2017-07-18T00:00:00                           47   \n",
            "\n",
            "      titulosEmAberto  ...      custos anoFundacao intervaloFundacao  \\\n",
            "0                0.00  ...         0.0      2003.0  Acima de 17 anos   \n",
            "2                0.00  ...         0.0      2014.0    De 6 a 10 anos   \n",
            "3                0.00  ...         0.0      2013.0    De 6 a 10 anos   \n",
            "4             1486.95  ...  40680051.0      2002.0  Acima de 17 anos   \n",
            "5                0.00  ...         0.0      2011.0    De 6 a 10 anos   \n",
            "...               ...  ...         ...         ...               ...   \n",
            "8958          6804.00  ...  88667750.0      2010.0   De 11 a 16 anos   \n",
            "8959         90290.90  ...   2564771.0      2009.0   De 11 a 16 anos   \n",
            "8960             0.00  ...   5145588.0      2018.0     De 0 a 5 anos   \n",
            "8961       1276462.66  ...  81114229.0      1995.0  Acima de 17 anos   \n",
            "8963         33269.26  ...   2151581.0      2013.0    De 6 a 10 anos   \n",
            "\n",
            "      capitalSocial  restricoes  empresa_MeEppMei  scorePontualidade  \\\n",
            "0           90000.0       False              True           1.000000   \n",
            "2           20000.0       False              True           1.000000   \n",
            "3           30000.0       False              True           0.000000   \n",
            "4           75000.0       False             False           1.000000   \n",
            "5           15000.0       False              True           0.000000   \n",
            "...             ...         ...               ...                ...   \n",
            "8958       833345.0       False             False           0.999005   \n",
            "8959        30000.0       False             False           0.830644   \n",
            "8960       110000.0       False              True           1.000000   \n",
            "8961      2000000.0       False             False           0.999930   \n",
            "8963       280000.0       False             False           1.000000   \n",
            "\n",
            "     limiteEmpresaAnaliseCredito dataAprovadoNivelAnalista  grupo_cliente  \n",
            "0                        43200.0       2020-02-03T20:57:33              0  \n",
            "2                         4320.0       2020-02-04T16:40:49              0  \n",
            "3                         5920.0       2020-02-04T16:37:52              0  \n",
            "4                        89000.0       2020-02-04T15:06:28              0  \n",
            "5                        38400.0       2020-02-04T15:10:46              0  \n",
            "...                          ...                       ...            ...  \n",
            "8958                   7200000.0       2021-02-25T20:33:36              0  \n",
            "8959                     60000.0                       NaN              0  \n",
            "8960                      3240.0       2021-02-25T20:40:58              0  \n",
            "8961                  10833160.0       2021-02-25T20:10:15              0  \n",
            "8963                     52000.0                       NaN              0  \n",
            "\n",
            "[8228 rows x 39 columns]\n"
          ]
        }
      ]
    },
    {
      "cell_type": "code",
      "source": [
        "import numpy as np\n",
        "\n",
        "# Função para calcular a raiz do erro quadrático médio (RMSE)\n",
        "def root_mean_squared_error(y_true, y_pred):\n",
        "    return np.sqrt(mean_squared_error(y_true, y_pred))\n"
      ],
      "metadata": {
        "id": "42vLv9yTT1Lz"
      },
      "execution_count": 9,
      "outputs": []
    },
    {
      "cell_type": "markdown",
      "source": [
        "## Treinar um modelo para cada grupo"
      ],
      "metadata": {
        "id": "TAnKgxwQEiRL"
      }
    },
    {
      "cell_type": "code",
      "source": [],
      "metadata": {
        "id": "VttMrvPOUOm9"
      },
      "execution_count": 9,
      "outputs": []
    },
    {
      "cell_type": "code",
      "source": [
        "# Treinar um modelo para cada grupo\n",
        "modelos_por_grupo = {}\n",
        "for grupo in range(n_clusters):\n",
        "    dados_grupo = dados_sem_nan[dados_sem_nan['grupo_cliente'] == grupo]\n",
        "    X_grupo = dados_grupo[['maiorAtraso', 'margemBrutaAcumulada', 'percentualProtestos', 'faturamentoBruto']]\n",
        "    y_grupo = dados_grupo['limiteEmpresaAnaliseCredito']\n",
        "\n",
        "    X_grupo_imputado, _ = trata_dados(X_grupo)\n",
        "\n",
        "    # Ajustar um novo StandardScaler para este grupo\n",
        "    scaler_grupo = StandardScaler()\n",
        "    X_grupo_padronizado = scaler_grupo.fit_transform(X_grupo_imputado)\n",
        "\n",
        "    X_treino, X_val, y_treino, y_val = train_test_split(X_grupo_padronizado, y_grupo, test_size=0.2, random_state=42)\n",
        "\n",
        "    modelo_grupo = RandomForestRegressor(random_state=42)\n",
        "    modelo_grupo.fit(X_treino, y_treino)\n",
        "\n",
        "    previsoes = modelo_grupo.predict(X_val)\n",
        "    rmse = mean_squared_error(y_val, previsoes, squared=False)\n",
        "    print(f'RMSE para o Grupo {grupo}: {rmse}')\n",
        "\n",
        "    modelos_por_grupo[grupo] = modelo_grupo"
      ],
      "metadata": {
        "colab": {
          "base_uri": "https://localhost:8080/"
        },
        "id": "bV-9xx49D1_L",
        "outputId": "025f7b98-5252-4352-8127-69e471b5d8d1"
      },
      "execution_count": 10,
      "outputs": [
        {
          "output_type": "stream",
          "name": "stdout",
          "text": [
            "RMSE para o Grupo 0: 7383094.580982074\n",
            "RMSE para o Grupo 1: 40319.399999999994\n",
            "RMSE para o Grupo 2: 56356141.322433755\n"
          ]
        }
      ]
    },
    {
      "cell_type": "markdown",
      "source": [
        "Criamos dicionários para armazenar os escalonadores e modelos por grupo.\n",
        "Para cada grupo, segmentamos os dados, imputamos valores ausentes e padronizamos os dados novamente com um escalonador específico para o grupo.\n",
        "Treinamos um modelo RandomForestRegressor para cada grupo e calculamos o RMSE (erro quadrático médio) para avaliar a performance do modelo."
      ],
      "metadata": {
        "id": "EK3vvPA8D62F"
      }
    },
    {
      "cell_type": "markdown",
      "source": [
        "## Função para recomendar limite de crédito para um novo cliente"
      ],
      "metadata": {
        "id": "lxFCAe6nFCOr"
      }
    },
    {
      "cell_type": "code",
      "source": [
        "def recomendar_limite_credito_classificacao(novo_cliente, imputer, kmeans, modelos_por_grupo):\n",
        "    # Criar DataFrame com o novo cliente\n",
        "    novo_cliente_df = pd.DataFrame([novo_cliente])\n",
        "\n",
        "    # Imputar valores ausentes no novo cliente\n",
        "    novo_cliente_imputado = imputer.transform(novo_cliente_df)\n",
        "\n",
        "    # Determinar o grupo do novo cliente usando KMeans\n",
        "    novo_cliente_grupo = kmeans.predict(novo_cliente_imputado)[0]\n",
        "\n",
        "    # Prever o limite de crédito usando o modelo do grupo correspondente\n",
        "    limite_credito = modelos_por_grupo[novo_cliente_grupo].predict(novo_cliente_imputado)\n",
        "\n",
        "    return limite_credito[0]"
      ],
      "metadata": {
        "id": "6skyV5hDD9vs"
      },
      "execution_count": 11,
      "outputs": []
    },
    {
      "cell_type": "markdown",
      "source": [
        "A função recomendar_limite_credito cria um DataFrame com os dados do novo cliente.\n",
        "Imputa valores ausentes e padroniza os dados do novo cliente usando o escalonador geral.\n",
        "Determina o grupo do novo cliente utilizando KMeans.\n",
        "Padroniza os dados novamente usando o escalonador específico do grupo.\n",
        "Usa o modelo do grupo correspondente para prever o limite de crédito."
      ],
      "metadata": {
        "id": "dF1_BMnhEBxD"
      }
    },
    {
      "cell_type": "markdown",
      "source": [
        "## Defina um novo cliente classificaçao"
      ],
      "metadata": {
        "id": "Ae_dZXVSFFAt"
      }
    },
    {
      "cell_type": "code",
      "source": [
        "# Recomendar limite de crédito usando a abordagem de classificação\n",
        "limite_credito_classificacao = recomendar_limite_credito_classificacao(novo_cliente, imputer, kmeans, modelos_por_grupo)\n",
        "print(f'Limite de crédito recomendado para o novo cliente (Classificação): {limite_credito_classificacao}')"
      ],
      "metadata": {
        "colab": {
          "base_uri": "https://localhost:8080/",
          "height": 176
        },
        "id": "G0VlTcKPEEEu",
        "outputId": "779eed2b-5a95-4aa9-d89a-148764f3a35e"
      },
      "execution_count": 12,
      "outputs": [
        {
          "output_type": "error",
          "ename": "NameError",
          "evalue": "name 'novo_cliente' is not defined",
          "traceback": [
            "\u001b[0;31m---------------------------------------------------------------------------\u001b[0m",
            "\u001b[0;31mNameError\u001b[0m                                 Traceback (most recent call last)",
            "\u001b[0;32m<ipython-input-12-14656a833cc0>\u001b[0m in \u001b[0;36m<cell line: 2>\u001b[0;34m()\u001b[0m\n\u001b[1;32m      1\u001b[0m \u001b[0;31m# Recomendar limite de crédito usando a abordagem de classificação\u001b[0m\u001b[0;34m\u001b[0m\u001b[0;34m\u001b[0m\u001b[0m\n\u001b[0;32m----> 2\u001b[0;31m \u001b[0mlimite_credito_classificacao\u001b[0m \u001b[0;34m=\u001b[0m \u001b[0mrecomendar_limite_credito_classificacao\u001b[0m\u001b[0;34m(\u001b[0m\u001b[0mnovo_cliente\u001b[0m\u001b[0;34m,\u001b[0m \u001b[0mimputer\u001b[0m\u001b[0;34m,\u001b[0m \u001b[0mkmeans\u001b[0m\u001b[0;34m,\u001b[0m \u001b[0mmodelos_por_grupo\u001b[0m\u001b[0;34m)\u001b[0m\u001b[0;34m\u001b[0m\u001b[0;34m\u001b[0m\u001b[0m\n\u001b[0m\u001b[1;32m      3\u001b[0m \u001b[0mprint\u001b[0m\u001b[0;34m(\u001b[0m\u001b[0;34mf'Limite de crédito recomendado para o novo cliente (Classificação): {limite_credito_classificacao}'\u001b[0m\u001b[0;34m)\u001b[0m\u001b[0;34m\u001b[0m\u001b[0;34m\u001b[0m\u001b[0m\n",
            "\u001b[0;31mNameError\u001b[0m: name 'novo_cliente' is not defined"
          ]
        }
      ]
    },
    {
      "cell_type": "markdown",
      "source": [
        "Definimos um novo cliente com suas características.\n",
        "Chamamos a função recomendar_limite_credito para prever o limite de crédito do novo cliente.\n",
        "Imprimimos o limite de crédito recomendado."
      ],
      "metadata": {
        "id": "DFMr3d-mEIhr"
      }
    },
    {
      "cell_type": "markdown",
      "source": [
        "## Acurácia"
      ],
      "metadata": {
        "id": "9OUjOafMZVIc"
      }
    },
    {
      "cell_type": "code",
      "source": [
        "from sklearn.metrics import accuracy_score\n",
        "\n",
        "# Dividir os dados em conjunto de treino e teste\n",
        "X_treino, X_teste, y_treino, y_teste = train_test_split(caracteristicas_padronizadas, rotulos_clusters, test_size=0.2, random_state=42)\n",
        "\n",
        "# Treinar o modelo de regressão (RandomForestRegressor)\n",
        "modelo_regressao = RandomForestRegressor(random_state=42)\n",
        "modelo_regressao.fit(X_treino, y_treino)\n",
        "\n",
        "# Fazer previsões no conjunto de teste para a classificação\n",
        "previsoes_teste_classificacao = modelo_regressao.predict(X_teste)\n",
        "\n",
        "# Calcular a acurácia\n",
        "acuracia = accuracy_score(y_teste, previsoes_teste_classificacao)\n",
        "print(f'Acurácia no conjunto de teste: {acuracia}')"
      ],
      "metadata": {
        "id": "nERR2cX5ZMOM"
      },
      "execution_count": null,
      "outputs": []
    },
    {
      "cell_type": "markdown",
      "source": [
        "# Modelo de Regressão"
      ],
      "metadata": {
        "id": "8LKkicsBFdY7"
      }
    },
    {
      "cell_type": "code",
      "source": [
        "# Dividir os dados em conjunto de treino e teste\n",
        "X_treino, X_teste, y_treino, y_teste = train_test_split(caracteristicas_padronizadas, alvo, test_size=0.2, random_state=42)\n",
        "\n",
        "# Treinar o modelo de regressão (RandomForestRegressor)\n",
        "modelo_regressao = RandomForestRegressor(random_state=42)\n",
        "modelo_regressao.fit(X_treino, y_treino)\n",
        "\n",
        "# Avaliar o modelo usando RMSE no conjunto de teste\n",
        "previsoes_teste = modelo_regressao.predict(X_teste)\n",
        "rmse_teste = mean_squared_error(y_teste, previsoes_teste, squared=False)\n",
        "print(f'RMSE no conjunto de teste (Regressão): {rmse_teste}')\n",
        "\n",
        "# Função para recomendar o limite de crédito para um novo cliente usando regressão\n",
        "def recomendar_limite_credito_regressao(novo_cliente):\n",
        "    # Imputar valores ausentes no novo cliente\n",
        "    novo_cliente_imputado = imputer.transform(pd.DataFrame([novo_cliente]))\n",
        "\n",
        "    # Determinar o limite de crédito usando o modelo de regressão\n",
        "    limite_credito = modelo_regressao.predict(novo_cliente_imputado)\n",
        "\n",
        "    return limite_credito[0]\n",
        "\n",
        "# Avaliar o modelo usando RMSE no conjunto de teste\n",
        "previsoes_teste = modelo_regressao.predict(X_teste)\n",
        "rmse_teste = mean_squared_error(y_teste, previsoes_teste, squared=False)\n",
        "print(f'RMSE no conjunto de teste (Regressão): {rmse_teste}')\n",
        "\n",
        "# Função para recomendar o limite de crédito para um novo cliente usando regressão\n",
        "def recomendar_limite_credito_regressao(novo_cliente):\n",
        "    # Imputar valores ausentes no novo cliente\n",
        "    novo_cliente_imputado = imputer.transform(pd.DataFrame([novo_cliente]))\n",
        "\n",
        "    # Determinar o limite de crédito usando o modelo de regressão\n",
        "    limite_credito = modelo_regressao.predict(novo_cliente_imputado)\n",
        "\n",
        "    return limite_credito[0]\n",
        "\n",
        "# Definir um novo cliente para teste\n",
        "novo_cliente = [30, 0.2, 5, 10000]"
      ],
      "metadata": {
        "id": "HhN_kUjGFgfR"
      },
      "execution_count": null,
      "outputs": []
    },
    {
      "cell_type": "code",
      "source": [
        "# Recomendar limite de crédito usando a abordagem de regressão\n",
        "limite_credito_regressao = recomendar_limite_credito_regressao(novo_cliente)\n",
        "print(f'Limite de crédito recomendado para o novo cliente (Regressão): {limite_credito_regressao}')"
      ],
      "metadata": {
        "id": "C2kKfsg_Qxjx"
      },
      "execution_count": null,
      "outputs": []
    },
    {
      "cell_type": "markdown",
      "source": [
        "## performance do modelo de regressão."
      ],
      "metadata": {
        "id": "LDdLQZ0VX_GT"
      }
    },
    {
      "cell_type": "code",
      "source": [
        "\n",
        "# Avaliar o modelo usando RMSE no conjunto de teste\n",
        "previsoes_teste = modelo_regressao.predict(X_teste)\n",
        "rmse_teste = mean_squared_error(y_teste, previsoes_teste, squared=False)\n",
        "print(f'RMSE no conjunto de teste: {rmse_teste}')"
      ],
      "metadata": {
        "id": "g5rGZNMfX9PA"
      },
      "execution_count": null,
      "outputs": []
    },
    {
      "cell_type": "markdown",
      "source": [
        "#  dashboard para o modelo de classificação usando KMeans:\n",
        "\n",
        "> Este é o código para o dashboard do modelo de classificação usando KMeans. Ele permite que você insira as características de um novo cliente e, ao clicar no botão \"Calcular\", mostrará o limite de crédito recomendado com base no modelo de classificação usando KMeans.\n"
      ],
      "metadata": {
        "id": "_SLpEnRjG_dr"
      }
    },
    {
      "cell_type": "code",
      "source": [
        "!pip install dash\n"
      ],
      "metadata": {
        "id": "kZpP8SpPResO"
      },
      "execution_count": null,
      "outputs": []
    },
    {
      "cell_type": "code",
      "source": [
        "import dash\n",
        "from dash import dcc, html\n",
        "from dash.dependencies import Input, Output\n",
        "import pandas as pd\n",
        "\n",
        "# Carregar os dados\n",
        "dados = pd.read_csv('/content/solicitacoescredito.csv')\n",
        "\n",
        "# Definir o aplicativo Dash\n",
        "app = dash.Dash(__name__)\n",
        "\n",
        "# Layout do aplicativo para o modelo de classificação usando KMeans\n",
        "app.layout = html.Div([\n",
        "    html.H1('Dashboard - Modelo de Classificação (KMeans)'),\n",
        "    html.Div([\n",
        "        html.Label('Maior Atraso'),\n",
        "        dcc.Input(id='input1', type='number', placeholder='Maior Atraso'),\n",
        "        html.Label('Margem Bruta Acumulada'),\n",
        "        dcc.Input(id='input2', type='number', placeholder='Margem Bruta Acumulada'),\n",
        "        html.Label('Percentual Protestos'),\n",
        "        dcc.Input(id='input3', type='number', placeholder='Percentual Protestos'),\n",
        "        html.Label('Faturamento Bruto'),\n",
        "        dcc.Input(id='input4', type='number', placeholder='Faturamento Bruto'),\n",
        "        html.Button('Calcular', id='calcular-button'),\n",
        "        html.Div(id='limite-credito-output')\n",
        "    ])\n",
        "])\n",
        "\n",
        "# Callback para calcular o limite de crédito recomendado usando KMeans\n",
        "@app.callback(\n",
        "    Output('limite-credito-output', 'children'),\n",
        "    [Input('calcular-button', 'n_clicks')],\n",
        "    [dash.dependencies.State('input1', 'value'),\n",
        "     dash.dependencies.State('input2', 'value'),\n",
        "     dash.dependencies.State('input3', 'value'),\n",
        "     dash.dependencies.State('input4', 'value')]\n",
        ")\n",
        "def calcular_limite_credito_kmeans(n_clicks, maior_atraso, margem_bruta_acumulada, percentual_protestos, faturamento_bruto):\n",
        "    if n_clicks is not None:\n",
        "        # Aqui você colocaria a lógica para calcular o limite de crédito usando KMeans\n",
        "        limite_credito_recomendado = 10000  # Apenas um valor de exemplo para demonstração\n",
        "        return f'Limite de Crédito Recomendado (KMeans): {limite_credito_recomendado}'\n",
        "\n",
        "    return ''\n",
        "\n",
        "# Executar o aplicativo\n",
        "if __name__ == '__main__':\n",
        "    app.run_server(debug=True)\n"
      ],
      "metadata": {
        "collapsed": true,
        "id": "5vhqKvNvHG2q"
      },
      "execution_count": null,
      "outputs": []
    },
    {
      "cell_type": "markdown",
      "source": [
        "# Dashboard para o modelo de regressão usando RandomForestRegressor"
      ],
      "metadata": {
        "id": "6jJ-8JR7OMiG"
      }
    },
    {
      "cell_type": "code",
      "source": [
        "import dash\n",
        "from dash import dcc, html\n",
        "from dash.dependencies import Input, Output\n",
        "import pandas as pd\n",
        "\n",
        "# Carregar os dados\n",
        "dados = pd.read_csv('/content/solicitacoescredito.csv')\n",
        "\n",
        "# Definir o aplicativo Dash\n",
        "app = dash.Dash(__name__)\n",
        "\n",
        "# Layout do aplicativo para o modelo de regressão usando RandomForestRegressor\n",
        "app.layout = html.Div([\n",
        "    html.H1('Dashboard - Modelo de Regressão (Random Forest)'),\n",
        "    html.Div([\n",
        "        html.Label('Maior Atraso'),\n",
        "        dcc.Input(id='input1', type='number', placeholder='Maior Atraso'),\n",
        "        html.Label('Margem Bruta Acumulada'),\n",
        "        dcc.Input(id='input2', type='number', placeholder='Margem Bruta Acumulada'),\n",
        "        html.Label('Percentual Protestos'),\n",
        "        dcc.Input(id='input3', type='number', placeholder='Percentual Protestos'),\n",
        "        html.Label('Faturamento Bruto'),\n",
        "        dcc.Input(id='input4', type='number', placeholder='Faturamento Bruto'),\n",
        "        html.Button('Calcular', id='calcular-button'),\n",
        "        html.Div(id='limite-credito-output')\n",
        "    ])\n",
        "])\n",
        "\n",
        "# Função para recomendar limite de crédito para um novo cliente\n",
        "def recomendar_limite_credito(novo_cliente):\n",
        "    # Padronizar os dados do novo cliente\n",
        "    novo_cliente_imputado = imputer.transform(pd.DataFrame([novo_cliente]))\n",
        "    novo_cliente_padronizado = scaler.transform(novo_cliente_imputado)\n",
        "\n",
        "    # Fazer previsões usando o modelo de regressão\n",
        "    limite_credito_recomendado = modelo_regressao.predict(novo_cliente_padronizado)\n",
        "\n",
        "    return limite_credito_recomendado[0]\n",
        "\n",
        "# Callback para calcular o limite de crédito recomendado usando RandomForestRegressor\n",
        "@app.callback(\n",
        "    Output('limite-credito-output', 'children'),\n",
        "    [Input('calcular-button', 'n_clicks')],\n",
        "    [dash.dependencies.State('input1', 'value'),\n",
        "     dash.dependencies.State('input2', 'value'),\n",
        "     dash.dependencies.State('input3', 'value'),\n",
        "     dash.dependencies.State('input4', 'value')]\n",
        ")\n",
        "def calcular_limite_credito_regressao(n_clicks, maior_atraso, margem_bruta_acumulada, percentual_protestos, faturamento_bruto):\n",
        "    if n_clicks is not None:\n",
        "        novo_cliente = {\n",
        "            'maiorAtraso': maior_atraso,\n",
        "            'margemBrutaAcumulada': margem_bruta_acumulada,\n",
        "            'percentualProtestos': percentual_protestos,\n",
        "            'faturamentoBruto': faturamento_bruto\n",
        "        }\n",
        "        limite_credito_recomendado = recomendar_limite_credito(novo_cliente)\n",
        "        return f'Limite de Crédito Recomendado (Regressão): {limite_credito_recomendado}'\n",
        "\n",
        "    return ''\n",
        "\n",
        "# Executar o aplicativo\n",
        "if __name__ == '__main__':\n",
        "    app.run_server(debug=True)\n"
      ],
      "metadata": {
        "id": "aWJhy-dZOQn0"
      },
      "execution_count": null,
      "outputs": []
    },
    {
      "cell_type": "markdown",
      "source": [
        "# Obtendo a importância das características para cada grupo"
      ],
      "metadata": {
        "id": "Qo6SJUQVSLSj"
      }
    },
    {
      "cell_type": "markdown",
      "source": [
        "* Este código irá calcular e imprimir as importâncias das características para cada grupo separadamente. Cada valor de importância representa a contribuição relativa de uma característica na previsão do limite de crédito para o grupo correspondente.\n",
        "\n"
      ],
      "metadata": {
        "id": "PZrfZE2NSSXX"
      }
    },
    {
      "cell_type": "code",
      "source": [
        "# Criar um dicionário para armazenar as importâncias das características para cada grupo\n",
        "importancias_por_grupo = {}\n",
        "\n",
        "# Calcular a importância das características para cada modelo de grupo\n",
        "for grupo, modelo_grupo in modelos_por_grupo.items():\n",
        "    importancias_caracteristicas = modelo_grupo.feature_importances_\n",
        "    importancias_por_grupo[grupo] = importancias_caracteristicas\n",
        "\n",
        "# Imprimir as importâncias das características para cada grupo\n",
        "for grupo, importancias in importancias_por_grupo.items():\n",
        "    print(f'Grupo {grupo}:')\n",
        "    for i, importancia in enumerate(importancias):\n",
        "        print(f'    Característica {i+1}: {importancia}')\n"
      ],
      "metadata": {
        "id": "RC7C-i8ySNjc"
      },
      "execution_count": null,
      "outputs": []
    },
    {
      "cell_type": "code",
      "source": [
        "# Convertendo para DataFrame para visualização\n",
        "df_importancias_caracteristicas = pd.DataFrame(importancias_por_grupo, index=X_grupo.columns)\n",
        "\n",
        "# Plotando as importâncias das características para cada grupo\n",
        "import matplotlib.pyplot as plt\n",
        "\n",
        "fig, ax = plt.subplots(figsize=(10, 6))\n",
        "df_importancias_caracteristicas.plot(kind='bar', ax=ax)\n",
        "plt.title('Importância das Características por Grupo')\n",
        "plt.xlabel('Características')\n",
        "plt.ylabel('Importância')\n",
        "plt.xticks(rotation=45)\n",
        "plt.legend(title='Grupo')\n",
        "plt.tight_layout()\n",
        "plt.show()\n"
      ],
      "metadata": {
        "id": "9kUOjkmBSby-"
      },
      "execution_count": null,
      "outputs": []
    },
    {
      "cell_type": "markdown",
      "source": [
        "# Vizualização\n",
        "## 1. Matriz de Correlação\n",
        "   \n",
        "* No contexto do conjunto de dados de solicitações de crédito, a matriz de correlação nos permite entender como as diferentes características (como atrasos no pagamento, margem bruta acumulada, percentual de protestos e faturamento bruto) estão relacionadas entre si.\n",
        "* Por exemplo, se houver uma alta correlação positiva entre o percentual de protestos e o atraso no pagamento, isso pode indicar que clientes com mais protestos tendem a ter mais atrasos nos pagamentos.\n",
        "\n"
      ],
      "metadata": {
        "id": "k78qhP5VVsjl"
      }
    },
    {
      "cell_type": "code",
      "source": [
        "import seaborn as sns\n",
        "\n",
        "# Calcular a matriz de correlação\n",
        "correlation_matrix = dados_sem_nan[['maiorAtraso', 'margemBrutaAcumulada', 'percentualProtestos', 'faturamentoBruto', 'limiteEmpresaAnaliseCredito']].corr()\n",
        "\n",
        "# Plotar a matriz de correlação\n",
        "plt.figure(figsize=(10, 8))\n",
        "sns.heatmap(correlation_matrix, annot=True, cmap='coolwarm', fmt=\".2f\", annot_kws={\"size\": 12})\n",
        "plt.title('Matriz de Correlação')\n",
        "plt.show()\n"
      ],
      "metadata": {
        "id": "mZ-DwiJvVlJM"
      },
      "execution_count": null,
      "outputs": []
    },
    {
      "cell_type": "markdown",
      "source": [
        "\n",
        "# Scatter Plots\n",
        "\n",
        "* Os scatter plots nos ajudam a visualizar a relação entre duas características específicas para diferentes grupos de clientes.\n",
        "* Por exemplo, podemos usar um scatter plot para ver como o percentual de protestos se relaciona com o atraso no pagamento, e se essa relação varia entre os diferentes grupos de clientes identificados pelo algoritmo de clusterização.\n"
      ],
      "metadata": {
        "id": "TdLw9KeqakDx"
      }
    },
    {
      "cell_type": "code",
      "source": [
        "\n",
        "import seaborn as sns\n",
        "import matplotlib.pyplot as plt\n",
        "\n",
        "\n",
        "# Scatter Plots\n",
        "sns.pairplot(dados_sem_nan, hue='grupo_cliente', vars=['maiorAtraso', 'margemBrutaAcumulada', 'percentualProtestos', 'faturamentoBruto'])\n",
        "plt.title('Scatter Plots')\n",
        "plt.show()\n",
        "\n",
        "\n"
      ],
      "metadata": {
        "id": "OEgClsmbaPtr"
      },
      "execution_count": null,
      "outputs": []
    },
    {
      "cell_type": "markdown",
      "source": [
        "# Gráficos de Violino:\n",
        "\n",
        "* Os gráficos de violino nos permitem visualizar a distribuição das características em cada grupo de clientes, mostrando tanto a tendência central quanto a dispersão dos dados.\n",
        "* Por exemplo, podemos usar gráficos de violino para entender como a margem bruta acumulada varia entre os diferentes grupos de clientes e identificar se há diferenças significativas em suas distribuições."
      ],
      "metadata": {
        "id": "j-4Xqy8sa4yC"
      }
    },
    {
      "cell_type": "code",
      "source": [
        "# Gráficos de Violino\n",
        "plt.figure(figsize=(10, 6))\n",
        "sns.violinplot(x='grupo_cliente', y='maiorAtraso', data=dados_sem_nan)\n",
        "plt.title('Gráfico de Violino para \"maiorAtraso\" por Grupo')\n",
        "plt.show()\n"
      ],
      "metadata": {
        "id": "jkwn-VG1bCrO"
      },
      "execution_count": null,
      "outputs": []
    },
    {
      "cell_type": "markdown",
      "source": [
        "#Gráficos de Barra:\n",
        "\n",
        "* Os gráficos de barra nos ajudam a comparar a média de uma característica específica entre os diferentes grupos de clientes.\n",
        "* Por exemplo, podemos usar um gráfico de barra para comparar a média da margem bruta acumulada entre os grupos de clientes e identificar se há diferenças significativas em suas médias."
      ],
      "metadata": {
        "id": "EtpWtGohbKQB"
      }
    },
    {
      "cell_type": "code",
      "source": [
        "# Gráficos de Barra\n",
        "plt.figure(figsize=(10, 6))\n",
        "sns.barplot(x='grupo_cliente', y='margemBrutaAcumulada', data=dados_sem_nan, estimator=np.mean)\n",
        "plt.title('Média de \"margemBrutaAcumulada\" por Grupo')\n",
        "plt.show()\n"
      ],
      "metadata": {
        "id": "1HZt_ABjbJwM"
      },
      "execution_count": null,
      "outputs": []
    }
  ]
}